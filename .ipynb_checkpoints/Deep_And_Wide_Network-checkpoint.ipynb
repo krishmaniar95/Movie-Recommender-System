{
 "cells": [
  {
   "cell_type": "code",
   "execution_count": 1,
   "metadata": {},
   "outputs": [],
   "source": [
    "%matplotlib inline \n",
    "#Importing the required libraries\n",
    "import pandas as pd\n",
    "import numpy as np\n",
    "import matplotlib.pyplot as plt\n",
    "import torch\n",
    "\n",
    "import torch.autograd as autograd\n",
    "import torch.nn as nn\n",
    "import torch.nn.functional as F\n",
    "import torch.optim as optim\n",
    "from torch.autograd import Variable\n",
    "from torch.utils.data import Dataset, DataLoader \n",
    "from collections import namedtuple\n",
    "\n",
    "from sklearn.preprocessing import StandardScaler\n",
    "from sklearn.model_selection import train_test_split\n",
    "from sklearn.metrics import mean_absolute_error, mean_squared_error"
   ]
  },
  {
   "cell_type": "markdown",
   "metadata": {},
   "source": [
    "### Loading the data files:"
   ]
  },
  {
   "cell_type": "code",
   "execution_count": 2,
   "metadata": {},
   "outputs": [
    {
     "data": {
      "text/html": [
       "<div>\n",
       "<style scoped>\n",
       "    .dataframe tbody tr th:only-of-type {\n",
       "        vertical-align: middle;\n",
       "    }\n",
       "\n",
       "    .dataframe tbody tr th {\n",
       "        vertical-align: top;\n",
       "    }\n",
       "\n",
       "    .dataframe thead th {\n",
       "        text-align: right;\n",
       "    }\n",
       "</style>\n",
       "<table border=\"1\" class=\"dataframe\">\n",
       "  <thead>\n",
       "    <tr style=\"text-align: right;\">\n",
       "      <th></th>\n",
       "      <th>userid</th>\n",
       "      <th>movieid</th>\n",
       "      <th>ratings</th>\n",
       "      <th>timestamp</th>\n",
       "    </tr>\n",
       "  </thead>\n",
       "  <tbody>\n",
       "    <tr>\n",
       "      <th>0</th>\n",
       "      <td>1</td>\n",
       "      <td>1193</td>\n",
       "      <td>5</td>\n",
       "      <td>978300760</td>\n",
       "    </tr>\n",
       "    <tr>\n",
       "      <th>1</th>\n",
       "      <td>1</td>\n",
       "      <td>661</td>\n",
       "      <td>3</td>\n",
       "      <td>978302109</td>\n",
       "    </tr>\n",
       "    <tr>\n",
       "      <th>2</th>\n",
       "      <td>1</td>\n",
       "      <td>914</td>\n",
       "      <td>3</td>\n",
       "      <td>978301968</td>\n",
       "    </tr>\n",
       "    <tr>\n",
       "      <th>3</th>\n",
       "      <td>1</td>\n",
       "      <td>3408</td>\n",
       "      <td>4</td>\n",
       "      <td>978300275</td>\n",
       "    </tr>\n",
       "    <tr>\n",
       "      <th>4</th>\n",
       "      <td>1</td>\n",
       "      <td>2355</td>\n",
       "      <td>5</td>\n",
       "      <td>978824291</td>\n",
       "    </tr>\n",
       "  </tbody>\n",
       "</table>\n",
       "</div>"
      ],
      "text/plain": [
       "   userid  movieid  ratings  timestamp\n",
       "0       1     1193        5  978300760\n",
       "1       1      661        3  978302109\n",
       "2       1      914        3  978301968\n",
       "3       1     3408        4  978300275\n",
       "4       1     2355        5  978824291"
      ]
     },
     "execution_count": 2,
     "metadata": {},
     "output_type": "execute_result"
    }
   ],
   "source": [
    "#Ratings Database File\n",
    "Ratings = pd.read_csv(\"ratings.dat\", sep = \"::\", engine = \"python\", header = None)\n",
    "Ratings.columns = [\"userid\",\"movieid\",\"ratings\",\"timestamp\"]\n",
    "Ratings.head()"
   ]
  },
  {
   "cell_type": "code",
   "execution_count": 3,
   "metadata": {},
   "outputs": [
    {
     "data": {
      "text/html": [
       "<div>\n",
       "<style scoped>\n",
       "    .dataframe tbody tr th:only-of-type {\n",
       "        vertical-align: middle;\n",
       "    }\n",
       "\n",
       "    .dataframe tbody tr th {\n",
       "        vertical-align: top;\n",
       "    }\n",
       "\n",
       "    .dataframe thead th {\n",
       "        text-align: right;\n",
       "    }\n",
       "</style>\n",
       "<table border=\"1\" class=\"dataframe\">\n",
       "  <thead>\n",
       "    <tr style=\"text-align: right;\">\n",
       "      <th></th>\n",
       "      <th>movieid</th>\n",
       "      <th>title</th>\n",
       "      <th>genres</th>\n",
       "    </tr>\n",
       "  </thead>\n",
       "  <tbody>\n",
       "    <tr>\n",
       "      <th>0</th>\n",
       "      <td>1</td>\n",
       "      <td>Toy Story (1995)</td>\n",
       "      <td>Animation|Children's|Comedy</td>\n",
       "    </tr>\n",
       "    <tr>\n",
       "      <th>1</th>\n",
       "      <td>2</td>\n",
       "      <td>Jumanji (1995)</td>\n",
       "      <td>Adventure|Children's|Fantasy</td>\n",
       "    </tr>\n",
       "    <tr>\n",
       "      <th>2</th>\n",
       "      <td>3</td>\n",
       "      <td>Grumpier Old Men (1995)</td>\n",
       "      <td>Comedy|Romance</td>\n",
       "    </tr>\n",
       "    <tr>\n",
       "      <th>3</th>\n",
       "      <td>4</td>\n",
       "      <td>Waiting to Exhale (1995)</td>\n",
       "      <td>Comedy|Drama</td>\n",
       "    </tr>\n",
       "    <tr>\n",
       "      <th>4</th>\n",
       "      <td>5</td>\n",
       "      <td>Father of the Bride Part II (1995)</td>\n",
       "      <td>Comedy</td>\n",
       "    </tr>\n",
       "  </tbody>\n",
       "</table>\n",
       "</div>"
      ],
      "text/plain": [
       "   movieid                               title                        genres\n",
       "0        1                    Toy Story (1995)   Animation|Children's|Comedy\n",
       "1        2                      Jumanji (1995)  Adventure|Children's|Fantasy\n",
       "2        3             Grumpier Old Men (1995)                Comedy|Romance\n",
       "3        4            Waiting to Exhale (1995)                  Comedy|Drama\n",
       "4        5  Father of the Bride Part II (1995)                        Comedy"
      ]
     },
     "execution_count": 3,
     "metadata": {},
     "output_type": "execute_result"
    }
   ],
   "source": [
    "#Movie Database file:\n",
    "movies = pd.read_csv(\"movies.dat\", sep = \"::\", header = None, engine = 'python')\n",
    "movies.columns = [\"movieid\",\"title\",\"genres\"]\n",
    "movies.head()"
   ]
  },
  {
   "cell_type": "code",
   "execution_count": 4,
   "metadata": {},
   "outputs": [
    {
     "data": {
      "text/html": [
       "<div>\n",
       "<style scoped>\n",
       "    .dataframe tbody tr th:only-of-type {\n",
       "        vertical-align: middle;\n",
       "    }\n",
       "\n",
       "    .dataframe tbody tr th {\n",
       "        vertical-align: top;\n",
       "    }\n",
       "\n",
       "    .dataframe thead th {\n",
       "        text-align: right;\n",
       "    }\n",
       "</style>\n",
       "<table border=\"1\" class=\"dataframe\">\n",
       "  <thead>\n",
       "    <tr style=\"text-align: right;\">\n",
       "      <th></th>\n",
       "      <th>userid</th>\n",
       "      <th>gender</th>\n",
       "      <th>age</th>\n",
       "      <th>occupation</th>\n",
       "      <th>zipcode</th>\n",
       "    </tr>\n",
       "  </thead>\n",
       "  <tbody>\n",
       "    <tr>\n",
       "      <th>0</th>\n",
       "      <td>1</td>\n",
       "      <td>F</td>\n",
       "      <td>1</td>\n",
       "      <td>10</td>\n",
       "      <td>48067</td>\n",
       "    </tr>\n",
       "    <tr>\n",
       "      <th>1</th>\n",
       "      <td>2</td>\n",
       "      <td>M</td>\n",
       "      <td>56</td>\n",
       "      <td>16</td>\n",
       "      <td>70072</td>\n",
       "    </tr>\n",
       "    <tr>\n",
       "      <th>2</th>\n",
       "      <td>3</td>\n",
       "      <td>M</td>\n",
       "      <td>25</td>\n",
       "      <td>15</td>\n",
       "      <td>55117</td>\n",
       "    </tr>\n",
       "    <tr>\n",
       "      <th>3</th>\n",
       "      <td>4</td>\n",
       "      <td>M</td>\n",
       "      <td>45</td>\n",
       "      <td>7</td>\n",
       "      <td>02460</td>\n",
       "    </tr>\n",
       "    <tr>\n",
       "      <th>4</th>\n",
       "      <td>5</td>\n",
       "      <td>M</td>\n",
       "      <td>25</td>\n",
       "      <td>20</td>\n",
       "      <td>55455</td>\n",
       "    </tr>\n",
       "  </tbody>\n",
       "</table>\n",
       "</div>"
      ],
      "text/plain": [
       "   userid gender  age  occupation zipcode\n",
       "0       1      F    1          10   48067\n",
       "1       2      M   56          16   70072\n",
       "2       3      M   25          15   55117\n",
       "3       4      M   45           7   02460\n",
       "4       5      M   25          20   55455"
      ]
     },
     "execution_count": 4,
     "metadata": {},
     "output_type": "execute_result"
    }
   ],
   "source": [
    "#User Database file:\n",
    "users = pd.read_csv(\"users.dat\", sep = \"::\", header = None, engine = \"python\")\n",
    "users.columns = [\"userid\", \"gender\", \"age\", \"occupation\", \"zipcode\"]\n",
    "users.head()"
   ]
  },
  {
   "cell_type": "code",
   "execution_count": 5,
   "metadata": {},
   "outputs": [
    {
     "name": "stdout",
     "output_type": "stream",
     "text": [
      "Total number of users 6040\n",
      "Total number of movies: 3706\n"
     ]
    }
   ],
   "source": [
    "n_users = Ratings.userid.unique().shape[0]\n",
    "n_movies = Ratings.movieid.unique().shape[0]\n",
    "\n",
    "print (\"Total number of users {}\".format(n_users))\n",
    "print(\"Total number of movies: {}\".format(n_movies))"
   ]
  },
  {
   "cell_type": "markdown",
   "metadata": {},
   "source": [
    "### Data Processing "
   ]
  },
  {
   "cell_type": "code",
   "execution_count": 6,
   "metadata": {},
   "outputs": [
    {
     "data": {
      "text/html": [
       "<div>\n",
       "<style scoped>\n",
       "    .dataframe tbody tr th:only-of-type {\n",
       "        vertical-align: middle;\n",
       "    }\n",
       "\n",
       "    .dataframe tbody tr th {\n",
       "        vertical-align: top;\n",
       "    }\n",
       "\n",
       "    .dataframe thead th {\n",
       "        text-align: right;\n",
       "    }\n",
       "</style>\n",
       "<table border=\"1\" class=\"dataframe\">\n",
       "  <thead>\n",
       "    <tr style=\"text-align: right;\">\n",
       "      <th></th>\n",
       "      <th>userid</th>\n",
       "      <th>movieid</th>\n",
       "      <th>ratings</th>\n",
       "    </tr>\n",
       "  </thead>\n",
       "  <tbody>\n",
       "    <tr>\n",
       "      <th>0</th>\n",
       "      <td>1</td>\n",
       "      <td>1193</td>\n",
       "      <td>5</td>\n",
       "    </tr>\n",
       "    <tr>\n",
       "      <th>1</th>\n",
       "      <td>1</td>\n",
       "      <td>661</td>\n",
       "      <td>3</td>\n",
       "    </tr>\n",
       "    <tr>\n",
       "      <th>2</th>\n",
       "      <td>1</td>\n",
       "      <td>914</td>\n",
       "      <td>3</td>\n",
       "    </tr>\n",
       "    <tr>\n",
       "      <th>3</th>\n",
       "      <td>1</td>\n",
       "      <td>3408</td>\n",
       "      <td>4</td>\n",
       "    </tr>\n",
       "    <tr>\n",
       "      <th>4</th>\n",
       "      <td>1</td>\n",
       "      <td>2355</td>\n",
       "      <td>5</td>\n",
       "    </tr>\n",
       "  </tbody>\n",
       "</table>\n",
       "</div>"
      ],
      "text/plain": [
       "   userid  movieid  ratings\n",
       "0       1     1193        5\n",
       "1       1      661        3\n",
       "2       1      914        3\n",
       "3       1     3408        4\n",
       "4       1     2355        5"
      ]
     },
     "execution_count": 6,
     "metadata": {},
     "output_type": "execute_result"
    }
   ],
   "source": [
    "#Removing the timestamp column:\n",
    "Ratings = Ratings.drop(\"timestamp\", axis = 1)\n",
    "Ratings.head()"
   ]
  },
  {
   "cell_type": "code",
   "execution_count": 7,
   "metadata": {},
   "outputs": [
    {
     "data": {
      "text/html": [
       "<div>\n",
       "<style scoped>\n",
       "    .dataframe tbody tr th:only-of-type {\n",
       "        vertical-align: middle;\n",
       "    }\n",
       "\n",
       "    .dataframe tbody tr th {\n",
       "        vertical-align: top;\n",
       "    }\n",
       "\n",
       "    .dataframe thead th {\n",
       "        text-align: right;\n",
       "    }\n",
       "</style>\n",
       "<table border=\"1\" class=\"dataframe\">\n",
       "  <thead>\n",
       "    <tr style=\"text-align: right;\">\n",
       "      <th></th>\n",
       "      <th>movieid</th>\n",
       "      <th>title</th>\n",
       "      <th>genres</th>\n",
       "    </tr>\n",
       "  </thead>\n",
       "  <tbody>\n",
       "    <tr>\n",
       "      <th>0</th>\n",
       "      <td>1</td>\n",
       "      <td>Toy Story (1995)</td>\n",
       "      <td>Animation</td>\n",
       "    </tr>\n",
       "    <tr>\n",
       "      <th>1</th>\n",
       "      <td>2</td>\n",
       "      <td>Jumanji (1995)</td>\n",
       "      <td>Adventure</td>\n",
       "    </tr>\n",
       "    <tr>\n",
       "      <th>2</th>\n",
       "      <td>3</td>\n",
       "      <td>Grumpier Old Men (1995)</td>\n",
       "      <td>Comedy</td>\n",
       "    </tr>\n",
       "    <tr>\n",
       "      <th>3</th>\n",
       "      <td>4</td>\n",
       "      <td>Waiting to Exhale (1995)</td>\n",
       "      <td>Comedy</td>\n",
       "    </tr>\n",
       "    <tr>\n",
       "      <th>4</th>\n",
       "      <td>5</td>\n",
       "      <td>Father of the Bride Part II (1995)</td>\n",
       "      <td>Comedy</td>\n",
       "    </tr>\n",
       "  </tbody>\n",
       "</table>\n",
       "</div>"
      ],
      "text/plain": [
       "   movieid                               title     genres\n",
       "0        1                    Toy Story (1995)  Animation\n",
       "1        2                      Jumanji (1995)  Adventure\n",
       "2        3             Grumpier Old Men (1995)     Comedy\n",
       "3        4            Waiting to Exhale (1995)     Comedy\n",
       "4        5  Father of the Bride Part II (1995)     Comedy"
      ]
     },
     "execution_count": 7,
     "metadata": {},
     "output_type": "execute_result"
    }
   ],
   "source": [
    "movies[\"genres\"] = movies.apply(lambda row : row['genres'].split(\"|\")[0],axis=1)\n",
    "movies.head()"
   ]
  },
  {
   "cell_type": "code",
   "execution_count": 8,
   "metadata": {},
   "outputs": [
    {
     "data": {
      "text/html": [
       "<div>\n",
       "<style scoped>\n",
       "    .dataframe tbody tr th:only-of-type {\n",
       "        vertical-align: middle;\n",
       "    }\n",
       "\n",
       "    .dataframe tbody tr th {\n",
       "        vertical-align: top;\n",
       "    }\n",
       "\n",
       "    .dataframe thead th {\n",
       "        text-align: right;\n",
       "    }\n",
       "</style>\n",
       "<table border=\"1\" class=\"dataframe\">\n",
       "  <thead>\n",
       "    <tr style=\"text-align: right;\">\n",
       "      <th></th>\n",
       "      <th>movieid</th>\n",
       "      <th>title</th>\n",
       "      <th>genres</th>\n",
       "      <th>movie_year</th>\n",
       "    </tr>\n",
       "  </thead>\n",
       "  <tbody>\n",
       "    <tr>\n",
       "      <th>0</th>\n",
       "      <td>1</td>\n",
       "      <td>Toy Story (1995)</td>\n",
       "      <td>Animation</td>\n",
       "      <td>1995</td>\n",
       "    </tr>\n",
       "    <tr>\n",
       "      <th>1</th>\n",
       "      <td>2</td>\n",
       "      <td>Jumanji (1995)</td>\n",
       "      <td>Adventure</td>\n",
       "      <td>1995</td>\n",
       "    </tr>\n",
       "    <tr>\n",
       "      <th>2</th>\n",
       "      <td>3</td>\n",
       "      <td>Grumpier Old Men (1995)</td>\n",
       "      <td>Comedy</td>\n",
       "      <td>1995</td>\n",
       "    </tr>\n",
       "    <tr>\n",
       "      <th>3</th>\n",
       "      <td>4</td>\n",
       "      <td>Waiting to Exhale (1995)</td>\n",
       "      <td>Comedy</td>\n",
       "      <td>1995</td>\n",
       "    </tr>\n",
       "    <tr>\n",
       "      <th>4</th>\n",
       "      <td>5</td>\n",
       "      <td>Father of the Bride Part II (1995)</td>\n",
       "      <td>Comedy</td>\n",
       "      <td>1995</td>\n",
       "    </tr>\n",
       "  </tbody>\n",
       "</table>\n",
       "</div>"
      ],
      "text/plain": [
       "   movieid                               title     genres  movie_year\n",
       "0        1                    Toy Story (1995)  Animation        1995\n",
       "1        2                      Jumanji (1995)  Adventure        1995\n",
       "2        3             Grumpier Old Men (1995)     Comedy        1995\n",
       "3        4            Waiting to Exhale (1995)     Comedy        1995\n",
       "4        5  Father of the Bride Part II (1995)     Comedy        1995"
      ]
     },
     "execution_count": 8,
     "metadata": {},
     "output_type": "execute_result"
    }
   ],
   "source": [
    "movies['movie_year'] = movies.apply(lambda row : int(row['title'].split(\"(\")[-1][:-1]),axis=1)\n",
    "movies.head()"
   ]
  },
  {
   "cell_type": "code",
   "execution_count": 9,
   "metadata": {},
   "outputs": [],
   "source": [
    "movies.drop([\"title\"], axis = 1, inplace = True)\n",
    "movie_ratings = pd.merge(Ratings, movies, how = \"left\", on =\"movieid\")"
   ]
  },
  {
   "cell_type": "markdown",
   "metadata": {},
   "source": [
    "### One hot encoding categorical variables:"
   ]
  },
  {
   "cell_type": "code",
   "execution_count": 10,
   "metadata": {},
   "outputs": [],
   "source": [
    "users[\"gender\"].replace({\"F\":0, \"M\":1}, inplace = True)"
   ]
  },
  {
   "cell_type": "code",
   "execution_count": 11,
   "metadata": {},
   "outputs": [],
   "source": [
    "users[\"age\"].replace({1:0, 18:1, 25:2, 35:3, 45:4, 50:5, 56:6}, inplace = True)"
   ]
  },
  {
   "cell_type": "code",
   "execution_count": 12,
   "metadata": {},
   "outputs": [],
   "source": [
    "users.drop([\"zipcode\"], axis = 1, inplace = True)"
   ]
  },
  {
   "cell_type": "code",
   "execution_count": 13,
   "metadata": {},
   "outputs": [],
   "source": [
    "df = pd.merge(movie_ratings,users, how = \"left\", on =\"userid\")"
   ]
  },
  {
   "cell_type": "code",
   "execution_count": 14,
   "metadata": {},
   "outputs": [
    {
     "data": {
      "text/html": [
       "<div>\n",
       "<style scoped>\n",
       "    .dataframe tbody tr th:only-of-type {\n",
       "        vertical-align: middle;\n",
       "    }\n",
       "\n",
       "    .dataframe tbody tr th {\n",
       "        vertical-align: top;\n",
       "    }\n",
       "\n",
       "    .dataframe thead th {\n",
       "        text-align: right;\n",
       "    }\n",
       "</style>\n",
       "<table border=\"1\" class=\"dataframe\">\n",
       "  <thead>\n",
       "    <tr style=\"text-align: right;\">\n",
       "      <th></th>\n",
       "      <th>userid</th>\n",
       "      <th>movieid</th>\n",
       "      <th>ratings</th>\n",
       "      <th>genres</th>\n",
       "      <th>movie_year</th>\n",
       "      <th>gender</th>\n",
       "      <th>age</th>\n",
       "      <th>occupation</th>\n",
       "    </tr>\n",
       "  </thead>\n",
       "  <tbody>\n",
       "    <tr>\n",
       "      <th>0</th>\n",
       "      <td>1</td>\n",
       "      <td>1193</td>\n",
       "      <td>5</td>\n",
       "      <td>Drama</td>\n",
       "      <td>1975</td>\n",
       "      <td>0</td>\n",
       "      <td>0</td>\n",
       "      <td>10</td>\n",
       "    </tr>\n",
       "    <tr>\n",
       "      <th>1</th>\n",
       "      <td>1</td>\n",
       "      <td>661</td>\n",
       "      <td>3</td>\n",
       "      <td>Animation</td>\n",
       "      <td>1996</td>\n",
       "      <td>0</td>\n",
       "      <td>0</td>\n",
       "      <td>10</td>\n",
       "    </tr>\n",
       "    <tr>\n",
       "      <th>2</th>\n",
       "      <td>1</td>\n",
       "      <td>914</td>\n",
       "      <td>3</td>\n",
       "      <td>Musical</td>\n",
       "      <td>1964</td>\n",
       "      <td>0</td>\n",
       "      <td>0</td>\n",
       "      <td>10</td>\n",
       "    </tr>\n",
       "    <tr>\n",
       "      <th>3</th>\n",
       "      <td>1</td>\n",
       "      <td>3408</td>\n",
       "      <td>4</td>\n",
       "      <td>Drama</td>\n",
       "      <td>2000</td>\n",
       "      <td>0</td>\n",
       "      <td>0</td>\n",
       "      <td>10</td>\n",
       "    </tr>\n",
       "    <tr>\n",
       "      <th>4</th>\n",
       "      <td>1</td>\n",
       "      <td>2355</td>\n",
       "      <td>5</td>\n",
       "      <td>Animation</td>\n",
       "      <td>1998</td>\n",
       "      <td>0</td>\n",
       "      <td>0</td>\n",
       "      <td>10</td>\n",
       "    </tr>\n",
       "  </tbody>\n",
       "</table>\n",
       "</div>"
      ],
      "text/plain": [
       "   userid  movieid  ratings     genres  movie_year  gender  age  occupation\n",
       "0       1     1193        5      Drama        1975       0    0          10\n",
       "1       1      661        3  Animation        1996       0    0          10\n",
       "2       1      914        3    Musical        1964       0    0          10\n",
       "3       1     3408        4      Drama        2000       0    0          10\n",
       "4       1     2355        5  Animation        1998       0    0          10"
      ]
     },
     "execution_count": 14,
     "metadata": {},
     "output_type": "execute_result"
    }
   ],
   "source": [
    "df.head()"
   ]
  },
  {
   "cell_type": "markdown",
   "metadata": {},
   "source": [
    "Defining functions to process the data to train the neural network:"
   ]
  },
  {
   "cell_type": "code",
   "execution_count": 15,
   "metadata": {},
   "outputs": [],
   "source": [
    "def encoder(df, columns=None):\n",
    "    if columns == None:\n",
    "        columns = list(df.select_dtypes(include = [\"object\"]).columns)\n",
    "\n",
    "    val_types = dict()\n",
    "    for i in columns:\n",
    "        val_types[i] = df[i].unique()\n",
    "\n",
    "    val_to_ind = dict()\n",
    "    for x, y in val_types.items():\n",
    "        val_to_ind[x] = {o: i for i, o in enumerate(val_types[x])}\n",
    "\n",
    "    for x, y in val_to_ind.items():\n",
    "        df[x] = df[x].apply(lambda x: y[x])\n",
    "\n",
    "    return val_to_ind, df"
   ]
  },
  {
   "cell_type": "code",
   "execution_count": 16,
   "metadata": {},
   "outputs": [],
   "source": [
    "def data_processing(df, wide_cols, embeddings_cols, continuous_cols, target,\n",
    "    scale=False, def_dim=8):\n",
    "\n",
    "\n",
    "    if type(embeddings_cols[0]) is tuple:\n",
    "        emb_dim = dict(embeddings_cols)\n",
    "        embeddings_cols = [emb[0] for emb in embeddings_cols]\n",
    "    else:\n",
    "        emb_dim = {e:def_dim for e in embeddings_cols}\n",
    "    deep_cols = embeddings_cols + continuous_cols\n",
    "    \n",
    "    #Creating a temp dataframe\n",
    "    Y = np.array(df[target])\n",
    "    all_columns = list(set(wide_cols + deep_cols ))\n",
    "    df_temp = df.copy()[all_columns]\n",
    "\n",
    "    #Extractomg the categorical column names that categorical variable names\n",
    "    categorical_columns = list(\n",
    "        df_temp.select_dtypes(include = [\"object\"]).columns)\n",
    "\n",
    "    \n",
    "    encoding_dict,df_temp = encoder(df_temp)\n",
    "    encoding_dict = {k:encoding_dict[k] for k in encoding_dict \n",
    "                     if k in deep_cols}\n",
    "    embeddings_input = []\n",
    "    for x,y in encoding_dict.items():\n",
    "        embeddings_input.append((x, len(y), emb_dim[x]))\n",
    "\n",
    "    df_deep = df_temp[deep_cols]\n",
    "    deep_column_ind = {x:y for y,x in enumerate(df_deep.columns)}\n",
    "\n",
    "\n",
    "    if scale:\n",
    "        scaler = StandardScaler()\n",
    "        for cc in continuous_cols:\n",
    "            df_deep[cc]  = scaler.fit_transform(df_deep[cc].values.reshape(-1,1))\n",
    "\n",
    "    df_wide = df_temp[wide_cols]\n",
    "    del(df_temp)\n",
    "    dummy_cols = [c for c in wide_cols if c in categorical_columns]\n",
    "    df_wide = pd.get_dummies(df_wide, columns = dummy_cols)\n",
    "\n",
    "    X_train_deep, X_test_deep = train_test_split(\n",
    "        df_deep.values, test_size = 0.3, random_state=1090)\n",
    "    X_train_wide, X_test_wide = train_test_split(\n",
    "        df_wide.values, test_size = 0.3, random_state=1090)\n",
    "    y_train, y_test = train_test_split(Y, test_size = 0.3, random_state = 1540)\n",
    "\n",
    "    group_dataset = dict()\n",
    "    train_dataset = namedtuple(\"train_dataset\", \"wide, deep, labels\")\n",
    "    test_dataset  = namedtuple(\"test_dataset\" , \"wide, deep, labels\")\n",
    "    group_dataset[\"train_dataset\"] = train_dataset(\n",
    "        X_train_wide, X_train_deep, y_train)\n",
    "    group_dataset[\"test_dataset\"]  = test_dataset(\n",
    "        X_test_wide, X_test_deep, y_test)\n",
    "    group_dataset[\"embeddings_input\"]  = embeddings_input\n",
    "    group_dataset[\"deep_column_ind\"] = deep_column_ind\n",
    "    group_dataset[\"encoding_dict\"] = encoding_dict\n",
    "\n",
    "    return group_dataset"
   ]
  },
  {
   "cell_type": "code",
   "execution_count": 17,
   "metadata": {},
   "outputs": [],
   "source": [
    "#Setting up the data\n",
    "wide_cols = [\"movie_year\", \"gender\", \"age\", \"occupation\", \"genres\", \"userid\", \"movieid\"]\n",
    "embeddings_cols = [(\"genres\",20), (\"userid\",100), (\"movieid\",100)]\n",
    "crossed_cols = ()\n",
    "continuous_cols = [\"movie_year\",\"gender\",\"age\",\"occupation\"]\n",
    "target = \"ratings\""
   ]
  },
  {
   "cell_type": "code",
   "execution_count": 18,
   "metadata": {},
   "outputs": [],
   "source": [
    "#Generating the embeddings and getting the training and test splits\n",
    "pro_data = data_processing(df, wide_cols, embeddings_cols, \n",
    "                           continuous_cols, target, scale = True)"
   ]
  },
  {
   "cell_type": "code",
   "execution_count": 20,
   "metadata": {},
   "outputs": [],
   "source": [
    "use_cuda = torch.cuda.is_available()\n",
    "\n",
    "#Defining the class for loading the dataset\n",
    "class DataLoad(Dataset):\n",
    "    def __init__(self, data):\n",
    "        \n",
    "        self.X_wide = data.wide\n",
    "        self.X_deep = data.deep\n",
    "        self.Y = data.labels\n",
    "        \n",
    "    def __getitem__(self,ind):\n",
    "        \n",
    "        xw = self.X_wide[ind]\n",
    "        xd = self.X_deep[ind]\n",
    "        y = self.Y[ind]\n",
    "        \n",
    "        return xw, xd, y\n",
    "    def __len__(self):\n",
    "        return len(self.Y)"
   ]
  },
  {
   "cell_type": "markdown",
   "metadata": {},
   "source": [
    "### Defining a class for the network architecture"
   ]
  },
  {
   "cell_type": "code",
   "execution_count": 38,
   "metadata": {},
   "outputs": [],
   "source": [
    "class DNWNet(nn.Module):\n",
    "\n",
    "    def __init__(self, wide_dim, embeddings_input, continuous_cols, \n",
    "                 deep_column_ind, hidden_layers, dropout, \n",
    "                 encoding_dict, n_class):\n",
    "\n",
    "        super(DNWNet, self).__init__()\n",
    "        self.wide_dim = wide_dim\n",
    "        self.deep_column_ind = deep_column_ind\n",
    "        self.embeddings_input = embeddings_input\n",
    "        self.continuous_cols = continuous_cols\n",
    "        self.hidden_layers = hidden_layers\n",
    "        self.dropout = dropout\n",
    "        self.encoding_dict = encoding_dict\n",
    "        self.n_class = n_class\n",
    "        self.loss_values=[]\n",
    "\n",
    "        #Creating embedding layers for the deep part of the network:\n",
    "        for col,val,dim in self.embeddings_input:\n",
    "            setattr(self, 'emb_layer_'+col, nn.Embedding(val, dim))\n",
    "\n",
    "        #Creating the hidden layer for the deep part of the network:\n",
    "        input_emb_dim = np.sum([emb[2] for emb in self.embeddings_input])\n",
    "        self.linear_1 = nn.Linear(input_emb_dim+len(continuous_cols),\n",
    "                                  self.hidden_layers[0])\n",
    "        if self.dropout:\n",
    "            self.linear_1_drop = nn.Dropout(self.dropout[0])\n",
    "        for i,h in enumerate(self.hidden_layers[1:],1):\n",
    "            setattr(self, 'linear_'+str(i+1),\n",
    "                    nn.Linear( self.hidden_layers[i-1], self.hidden_layers[i] ))\n",
    "            if self.dropout:\n",
    "                setattr(self, 'linear_'+str(i+1)+'_drop', nn.Dropout(self.dropout[i]))\n",
    "\n",
    "        #Merging the deep and wide components to the output layer\n",
    "        self.output = nn.Linear(self.hidden_layers[-1]+self.wide_dim,\n",
    "                                self.n_class)\n",
    "\n",
    "\n",
    "    def compile(self, optimizer=\"SGD\", learning_rate=0.001, momentum=0.0):\n",
    "        \n",
    "        self.activation, self.criterion = None, F.mse_loss\n",
    "\n",
    "        if optimizer == \"Adam\":\n",
    "            self.optimizer = torch.optim.Adam(self.parameters(), lr=learning_rate)\n",
    "        if optimizer == \"RMSprop\":\n",
    "            self.optimizer = torch.optim.RMSprop(self.parameters(), lr=learning_rate)\n",
    "        if optimizer == \"SGD\":\n",
    "            self.optimizer = torch.optim.SGD(self.parameters(), lr=learning_rate, momentum=momentum)\n",
    "\n",
    "        self.method = 'regression'\n",
    "\n",
    "\n",
    "    def forward(self, X_w, X_d):\n",
    "\n",
    "        # Deep Side\n",
    "        emb = [getattr(self, 'emb_layer_'+col)(X_d[:,self.deep_column_ind[col]].long())\n",
    "               for col,_,_ in self.embeddings_input]\n",
    "        if self.continuous_cols:\n",
    "            cont_ind = [self.deep_column_ind[col] \n",
    "                        for col in self.continuous_cols]\n",
    "            cont = [X_d[:, cont_ind].float()]\n",
    "            deep_inp = torch.cat(emb+cont, 1)\n",
    "        else:\n",
    "            deep_inp = torch.cat(emb, 1)\n",
    "\n",
    "        x_deep = F.relu(self.linear_1(deep_inp))\n",
    "        if self.dropout:\n",
    "            x_deep = self.linear_1_drop(x_deep)\n",
    "        for i in range(1,len(self.hidden_layers)):\n",
    "            x_deep = F.relu( getattr(self, 'linear_'+str(i+1))(x_deep) )\n",
    "            if self.dropout:\n",
    "                x_deep = getattr(self, 'linear_'+str(i+1)+'_drop')(x_deep)\n",
    "\n",
    "        #Concatenating the deep and wide sides\n",
    "        wide_deep_input = torch.cat([x_deep, X_w.float()], 1)\n",
    "\n",
    "        if not self.activation:\n",
    "            out = self.output(wide_deep_input)\n",
    "        else:\n",
    "            out = self.activation(self.output(wide_deep_input))\n",
    "\n",
    "        return out\n",
    "\n",
    "\n",
    "    def fit(self, dataset, n_epochs, batch_size):\n",
    "\n",
    "        widedeep_dataset = DataLoad(dataset)\n",
    "        train_loader = torch.utils.data.DataLoader(dataset=widedeep_dataset,\n",
    "                                                   batch_size=batch_size,\n",
    "                                                   shuffle=True)\n",
    "\n",
    "        \n",
    "        net = self.train()\n",
    "        for epoch in range(n_epochs):\n",
    "            total=0\n",
    "            correct=0\n",
    "            for i, (X_wide, X_deep, target) in enumerate(train_loader):\n",
    "                X_w = Variable(X_wide)\n",
    "                X_d = Variable(X_deep)\n",
    "                y = (Variable(target).float() if self.method != 'multiclass' else Variable(target))\n",
    "\n",
    "                if use_cuda:\n",
    "                    X_w, X_d, y = X_w.cuda(), X_d.cuda(), y.cuda()\n",
    "\n",
    "                self.optimizer.zero_grad()\n",
    "                y_pred =  net(X_w, X_d)\n",
    "                y_pred = torch.squeeze(y_pred)\n",
    "                loss = self.criterion(y_pred, y)\n",
    "                loss.backward()\n",
    "                self.optimizer.step()\n",
    "\n",
    "                if self.method != \"regression\":\n",
    "                    total+= y.size(0)\n",
    "                    if self.method == 'logistic':\n",
    "                        y_pred_cat = (y_pred > 0.5).squeeze(1).float()\n",
    "                    if self.method == \"multiclass\":\n",
    "                        _, y_pred_cat = torch.max(y_pred, 1)\n",
    "                    correct+= float((y_pred_cat == y).sum().data[0])\n",
    "            self.loss_values.append(loss.item())\n",
    "            print ('Epoch {} of {}, Loss: {}'.format(epoch+1, n_epochs,\n",
    "                    round(loss.item(),3)))\n",
    "\n",
    "\n",
    "    def predict(self, dataset):\n",
    "\n",
    "\n",
    "        X_w = Variable(torch.from_numpy(dataset.wide)).float()\n",
    "        X_d = Variable(torch.from_numpy(dataset.deep))\n",
    "\n",
    "        if use_cuda:\n",
    "            X_w, X_d = X_w.cuda(), X_d.cuda()\n",
    "\n",
    "        \n",
    "        net = self.eval()\n",
    "        pred = net(X_w,X_d).cpu()\n",
    "        if self.method == \"regression\":\n",
    "            return pred.squeeze(1).data.numpy()\n",
    "        if self.method == \"logistic\":\n",
    "            return (pred > 0.5).squeeze(1).data.numpy()\n",
    "        if self.method == \"multiclass\":\n",
    "            _, pred_cat = torch.max(pred, 1)\n",
    "            return pred_cat.data.numpy()\n",
    "\n",
    "\n",
    " \n",
    "\n",
    "    def get_embeddings(self, col_name):\n",
    "        params = list(self.named_parameters())\n",
    "        emb_layers = [p for p in params if 'emb_layer' in p[0]]\n",
    "        emb_layer  = [layer for layer in emb_layers if col_name in layer[0]][0]\n",
    "        embeddings = emb_layer[1].cpu().data.numpy()\n",
    "        col_label_encoding = self.encoding_dict[col_name]\n",
    "        inv_dict = {y:x for x,y in col_label_encoding.items()}\n",
    "        embeddings_dict = {}\n",
    "        for ind,value in inv_dict.items():\n",
    "            embeddings_dict[value] = embeddings[ind]\n",
    "\n",
    "        return embeddings_dict"
   ]
  },
  {
   "cell_type": "code",
   "execution_count": 39,
   "metadata": {},
   "outputs": [],
   "source": [
    "# Network set up\n",
    "wide_dim = pro_data['train_dataset'].wide.shape[1]\n",
    "n_unique = len(np.unique(pro_data['train_dataset'].labels))\n",
    "n_class = 1\n",
    "\n",
    "deep_column_ind = pro_data['deep_column_ind']\n",
    "embeddings_input= pro_data['embeddings_input']\n",
    "encoding_dict   = pro_data['encoding_dict']\n",
    "hidden_layers = [100,80]\n",
    "dropout = [0.5,0.2]"
   ]
  },
  {
   "cell_type": "code",
   "execution_count": 104,
   "metadata": {},
   "outputs": [],
   "source": [
    "use_cuda = torch.cuda.is_available()\n",
    "\n",
    "model = DNWNet(wide_dim,embeddings_input,continuous_cols, deep_column_ind,\n",
    "               hidden_layers,dropout,encoding_dict,n_class)\n",
    "model.compile(optimizer = \"RMSprop\")\n",
    "if use_cuda:\n",
    "    model = model.cuda()"
   ]
  },
  {
   "cell_type": "code",
   "execution_count": 105,
   "metadata": {},
   "outputs": [
    {
     "name": "stdout",
     "output_type": "stream",
     "text": [
      "Epoch 1 of 10, Loss: 84.043\n",
      "Epoch 2 of 10, Loss: 32.315\n",
      "Epoch 3 of 10, Loss: 19.025\n",
      "Epoch 4 of 10, Loss: 12.184\n",
      "Epoch 5 of 10, Loss: 16.045\n",
      "Epoch 6 of 10, Loss: 13.495\n",
      "Epoch 7 of 10, Loss: 11.32\n",
      "Epoch 8 of 10, Loss: 14.398\n",
      "Epoch 9 of 10, Loss: 15.441\n",
      "Epoch 10 of 10, Loss: 16.793\n",
      "Wall time: 1min 56s\n"
     ]
    }
   ],
   "source": [
    "%%time\n",
    "#train the model\n",
    "train_dataset = pro_data['train_dataset']\n",
    "model.fit(dataset=train_dataset, n_epochs=10, batch_size=5000)"
   ]
  },
  {
   "cell_type": "code",
   "execution_count": 106,
   "metadata": {},
   "outputs": [],
   "source": [
    "test_dataset = pro_data['test_dataset']"
   ]
  },
  {
   "cell_type": "code",
   "execution_count": 107,
   "metadata": {},
   "outputs": [],
   "source": [
    "y_pred = model.predict(dataset = test_dataset)"
   ]
  },
  {
   "cell_type": "code",
   "execution_count": 108,
   "metadata": {},
   "outputs": [],
   "source": [
    "y = test_dataset.labels"
   ]
  },
  {
   "cell_type": "code",
   "execution_count": 109,
   "metadata": {},
   "outputs": [
    {
     "data": {
      "text/plain": [
       "19.80021837710608"
      ]
     },
     "execution_count": 109,
     "metadata": {},
     "output_type": "execute_result"
    }
   ],
   "source": [
    "#Mean squared error:\n",
    "mean_squared_error(y_pred,y)"
   ]
  },
  {
   "cell_type": "code",
   "execution_count": 110,
   "metadata": {},
   "outputs": [
    {
     "data": {
      "text/plain": [
       "4.151416896283542"
      ]
     },
     "execution_count": 110,
     "metadata": {},
     "output_type": "execute_result"
    }
   ],
   "source": [
    "#Mean absolute error:\n",
    "mean_absolute_error(y_pred, y)"
   ]
  },
  {
   "cell_type": "code",
   "execution_count": 111,
   "metadata": {},
   "outputs": [
    {
     "data": {
      "image/png": "[encoded data removed]",
      "text/plain": [
       "<Figure size 432x288 with 1 Axes>"
      ]
     },
     "metadata": {
      "needs_background": "light"
     },
     "output_type": "display_data"
    }
   ],
   "source": [
    "#plotting the training error of the model:\n",
    "plt.plot(model.loss_values)\n",
    "plt.ylabel('Train Error')\n",
    "plt.xlabel('epoch')\n",
    "plt.title('Train Error for intial model settings')\n",
    "plt.show()"
   ]
  },
  {
   "cell_type": "markdown",
   "metadata": {},
   "source": [
    "##Hyperparameter Tuning:"
   ]
  },
  {
   "cell_type": "code",
   "execution_count": 136,
   "metadata": {},
   "outputs": [],
   "source": [
    "#Comparing Adam with RMSProp\n",
    "models = []\n",
    "methods = [\"RMSprop\", \"Adam\"]"
   ]
  },
  {
   "cell_type": "code",
   "execution_count": 137,
   "metadata": {},
   "outputs": [
    {
     "name": "stdout",
     "output_type": "stream",
     "text": [
      "Epoch 1 of 20, Loss: 619.888\n",
      "Epoch 2 of 20, Loss: 126.248\n",
      "Epoch 3 of 20, Loss: 27.493\n",
      "Epoch 4 of 20, Loss: 5.29\n",
      "Epoch 5 of 20, Loss: 1.823\n",
      "Epoch 6 of 20, Loss: 1.567\n",
      "Epoch 7 of 20, Loss: 1.44\n",
      "Epoch 8 of 20, Loss: 35.878\n",
      "Epoch 9 of 20, Loss: 2.445\n",
      "Epoch 10 of 20, Loss: 5.113\n",
      "Epoch 11 of 20, Loss: 15.125\n",
      "Epoch 12 of 20, Loss: 9.463\n",
      "Epoch 13 of 20, Loss: 11.042\n",
      "Epoch 14 of 20, Loss: 19.263\n",
      "Epoch 15 of 20, Loss: 11.816\n",
      "Epoch 16 of 20, Loss: 17.296\n",
      "Epoch 17 of 20, Loss: 14.304\n",
      "Epoch 18 of 20, Loss: 13.238\n",
      "Epoch 19 of 20, Loss: 13.689\n",
      "Epoch 20 of 20, Loss: 13.897\n",
      "Epoch 1 of 20, Loss: 1971.621\n",
      "Epoch 2 of 20, Loss: 691.585\n",
      "Epoch 3 of 20, Loss: 210.981\n",
      "Epoch 4 of 20, Loss: 136.398\n",
      "Epoch 5 of 20, Loss: 117.457\n",
      "Epoch 6 of 20, Loss: 94.309\n",
      "Epoch 7 of 20, Loss: 86.729\n",
      "Epoch 8 of 20, Loss: 61.309\n",
      "Epoch 9 of 20, Loss: 46.07\n",
      "Epoch 10 of 20, Loss: 40.982\n",
      "Epoch 11 of 20, Loss: 31.074\n",
      "Epoch 12 of 20, Loss: 28.83\n",
      "Epoch 13 of 20, Loss: 24.997\n",
      "Epoch 14 of 20, Loss: 15.601\n",
      "Epoch 15 of 20, Loss: 13.617\n",
      "Epoch 16 of 20, Loss: 9.453\n",
      "Epoch 17 of 20, Loss: 8.329\n",
      "Epoch 18 of 20, Loss: 6.63\n",
      "Epoch 19 of 20, Loss: 5.222\n",
      "Epoch 20 of 20, Loss: 3.899\n"
     ]
    }
   ],
   "source": [
    "for method in methods:\n",
    "    model = DNWNet( wide_dim,embeddings_input,continuous_cols,deep_column_ind,\n",
    "                      hidden_layers,dropout,encoding_dict,n_class)\n",
    "    model.compile(optimizer=method)\n",
    "    if use_cuda:\n",
    "        model = model.cuda()\n",
    "    model.fit(dataset=train_dataset, n_epochs=20, batch_size=10000)\n",
    "    models.append(model)"
   ]
  },
  {
   "cell_type": "code",
   "execution_count": 138,
   "metadata": {},
   "outputs": [
    {
     "data": {
      "image/png": "[encoded data removed]",
      "text/plain": [
       "<Figure size 432x288 with 1 Axes>"
      ]
     },
     "metadata": {
      "needs_background": "light"
     },
     "output_type": "display_data"
    }
   ],
   "source": [
    "for model in models:\n",
    "    plt.plot(np.arange(20),model.loss_values)\n",
    "plt.ylabel('Train Error')\n",
    "plt.xlabel('epoch')\n",
    "\n",
    "plt.legend(methods, loc='upper right')\n",
    "plt.title(\"Training Error for Adam and RMSProp\")\n",
    "plt.show()"
   ]
  },
  {
   "cell_type": "code",
   "execution_count": 139,
   "metadata": {},
   "outputs": [
    {
     "name": "stdout",
     "output_type": "stream",
     "text": [
      "for RMSprop (\n",
      "Parameter Group 0\n",
      "    alpha: 0.99\n",
      "    centered: False\n",
      "    eps: 1e-08\n",
      "    lr: 0.001\n",
      "    momentum: 0\n",
      "    weight_decay: 0\n",
      ")\n",
      "test mean squared error: 14.926377059454724\n",
      "test mean absolute error: 3.5426918555880587\n",
      "for Adam (\n",
      "Parameter Group 0\n",
      "    amsgrad: False\n",
      "    betas: (0.9, 0.999)\n",
      "    eps: 1e-08\n",
      "    lr: 0.001\n",
      "    weight_decay: 0\n",
      ")\n",
      "test mean squared error: 1.4358005076180889\n",
      "test mean absolute error: 0.9548256137469326\n"
     ]
    }
   ],
   "source": [
    "for model in models:\n",
    "    print(\"for \"+ str(model.optimizer))\n",
    "    y_pred = model.predict(dataset=test_dataset)\n",
    "    y = test_dataset.labels\n",
    "    print(\"test mean squared error: \"+str(mean_squared_error(y_pred,y)))\n",
    "    print(\"test mean absolute error: \"+ str(mean_absolute_error(y_pred,y)))"
   ]
  },
  {
   "cell_type": "code",
   "execution_count": 140,
   "metadata": {},
   "outputs": [],
   "source": [
    "#Optimizing dropout values\n",
    "dropouts = [0,0.1,0.3,0.6,0.7,1]\n",
    "models_dropout = []"
   ]
  },
  {
   "cell_type": "code",
   "execution_count": 141,
   "metadata": {},
   "outputs": [
    {
     "name": "stdout",
     "output_type": "stream",
     "text": [
      "Epoch 1 of 20, Loss: 3743.458\n",
      "Epoch 2 of 20, Loss: 651.191\n",
      "Epoch 3 of 20, Loss: 46.695\n",
      "Epoch 4 of 20, Loss: 3.563\n",
      "Epoch 5 of 20, Loss: 3.542\n",
      "Epoch 6 of 20, Loss: 1.398\n",
      "Epoch 7 of 20, Loss: 1.544\n",
      "Epoch 8 of 20, Loss: 1.655\n",
      "Epoch 9 of 20, Loss: 1.164\n",
      "Epoch 10 of 20, Loss: 1.273\n",
      "Epoch 11 of 20, Loss: 1.448\n",
      "Epoch 12 of 20, Loss: 1.204\n",
      "Epoch 13 of 20, Loss: 1.525\n",
      "Epoch 14 of 20, Loss: 1.437\n",
      "Epoch 15 of 20, Loss: 1.377\n",
      "Epoch 16 of 20, Loss: 1.288\n",
      "Epoch 17 of 20, Loss: 1.216\n",
      "Epoch 18 of 20, Loss: 1.203\n",
      "Epoch 19 of 20, Loss: 1.262\n",
      "Epoch 20 of 20, Loss: 1.049\n",
      "Epoch 1 of 20, Loss: 3340.617\n",
      "Epoch 2 of 20, Loss: 341.396\n",
      "Epoch 3 of 20, Loss: 13.74\n",
      "Epoch 4 of 20, Loss: 4.026\n",
      "Epoch 5 of 20, Loss: 2.426\n",
      "Epoch 6 of 20, Loss: 1.732\n",
      "Epoch 7 of 20, Loss: 2.111\n",
      "Epoch 8 of 20, Loss: 1.242\n",
      "Epoch 9 of 20, Loss: 1.701\n",
      "Epoch 10 of 20, Loss: 1.557\n",
      "Epoch 11 of 20, Loss: 1.212\n",
      "Epoch 12 of 20, Loss: 1.593\n",
      "Epoch 13 of 20, Loss: 1.515\n",
      "Epoch 14 of 20, Loss: 1.422\n",
      "Epoch 15 of 20, Loss: 1.083\n",
      "Epoch 16 of 20, Loss: 1.606\n",
      "Epoch 17 of 20, Loss: 1.478\n",
      "Epoch 18 of 20, Loss: 1.55\n",
      "Epoch 19 of 20, Loss: 1.37\n",
      "Epoch 20 of 20, Loss: 1.531\n",
      "Epoch 1 of 20, Loss: 2494.912\n",
      "Epoch 2 of 20, Loss: 1066.303\n",
      "Epoch 3 of 20, Loss: 429.63\n",
      "Epoch 4 of 20, Loss: 272.667\n",
      "Epoch 5 of 20, Loss: 155.354\n",
      "Epoch 6 of 20, Loss: 91.298\n",
      "Epoch 7 of 20, Loss: 73.997\n",
      "Epoch 8 of 20, Loss: 59.033\n",
      "Epoch 9 of 20, Loss: 66.27\n",
      "Epoch 10 of 20, Loss: 47.254\n",
      "Epoch 11 of 20, Loss: 53.599\n",
      "Epoch 12 of 20, Loss: 40.902\n",
      "Epoch 13 of 20, Loss: 38.027\n",
      "Epoch 14 of 20, Loss: 46.732\n",
      "Epoch 15 of 20, Loss: 36.944\n",
      "Epoch 16 of 20, Loss: 29.555\n",
      "Epoch 17 of 20, Loss: 39.267\n",
      "Epoch 18 of 20, Loss: 36.171\n",
      "Epoch 19 of 20, Loss: 29.751\n",
      "Epoch 20 of 20, Loss: 26.985\n",
      "Epoch 1 of 20, Loss: 2391.362\n",
      "Epoch 2 of 20, Loss: 705.463\n",
      "Epoch 3 of 20, Loss: 239.705\n",
      "Epoch 4 of 20, Loss: 155.252\n",
      "Epoch 5 of 20, Loss: 85.125\n",
      "Epoch 6 of 20, Loss: 74.42\n",
      "Epoch 7 of 20, Loss: 46.138\n",
      "Epoch 8 of 20, Loss: 31.895\n",
      "Epoch 9 of 20, Loss: 21.244\n",
      "Epoch 10 of 20, Loss: 14.378\n",
      "Epoch 11 of 20, Loss: 8.823\n",
      "Epoch 12 of 20, Loss: 5.999\n",
      "Epoch 13 of 20, Loss: 3.879\n",
      "Epoch 14 of 20, Loss: 4.549\n",
      "Epoch 15 of 20, Loss: 2.736\n",
      "Epoch 16 of 20, Loss: 1.947\n",
      "Epoch 17 of 20, Loss: 2.076\n",
      "Epoch 18 of 20, Loss: 1.894\n",
      "Epoch 19 of 20, Loss: 1.586\n",
      "Epoch 20 of 20, Loss: 1.829\n",
      "Epoch 1 of 20, Loss: 9617.751\n",
      "Epoch 2 of 20, Loss: 3285.158\n",
      "Epoch 3 of 20, Loss: 852.72\n",
      "Epoch 4 of 20, Loss: 272.816\n",
      "Epoch 5 of 20, Loss: 75.911\n",
      "Epoch 6 of 20, Loss: 47.375\n",
      "Epoch 7 of 20, Loss: 37.552\n",
      "Epoch 8 of 20, Loss: 24.023\n",
      "Epoch 9 of 20, Loss: 19.076\n",
      "Epoch 10 of 20, Loss: 16.773\n",
      "Epoch 11 of 20, Loss: 9.424\n",
      "Epoch 12 of 20, Loss: 9.443\n",
      "Epoch 13 of 20, Loss: 6.541\n",
      "Epoch 14 of 20, Loss: 5.127\n",
      "Epoch 15 of 20, Loss: 4.767\n",
      "Epoch 16 of 20, Loss: 4.303\n",
      "Epoch 17 of 20, Loss: 3.249\n",
      "Epoch 18 of 20, Loss: 3.242\n",
      "Epoch 19 of 20, Loss: 3.324\n",
      "Epoch 20 of 20, Loss: 2.844\n",
      "Epoch 1 of 20, Loss: 6490.024\n",
      "Epoch 2 of 20, Loss: 1408.181\n",
      "Epoch 3 of 20, Loss: 212.446\n",
      "Epoch 4 of 20, Loss: 36.931\n",
      "Epoch 5 of 20, Loss: 11.169\n",
      "Epoch 6 of 20, Loss: 5.776\n",
      "Epoch 7 of 20, Loss: 2.949\n",
      "Epoch 8 of 20, Loss: 1.976\n",
      "Epoch 9 of 20, Loss: 1.433\n",
      "Epoch 10 of 20, Loss: 1.378\n",
      "Epoch 11 of 20, Loss: 1.346\n",
      "Epoch 12 of 20, Loss: 1.477\n",
      "Epoch 13 of 20, Loss: 1.27\n",
      "Epoch 14 of 20, Loss: 1.267\n",
      "Epoch 15 of 20, Loss: 1.104\n",
      "Epoch 16 of 20, Loss: 1.403\n",
      "Epoch 17 of 20, Loss: 1.166\n",
      "Epoch 18 of 20, Loss: 1.229\n",
      "Epoch 19 of 20, Loss: 1.453\n",
      "Epoch 20 of 20, Loss: 1.255\n"
     ]
    }
   ],
   "source": [
    "for drop in dropouts:\n",
    "    dropout = [drop,drop]\n",
    "    model = DNWNet( wide_dim, embeddings_input, continuous_cols,\n",
    "                      deep_column_ind, hidden_layers, dropout, encoding_dict,\n",
    "                      n_class)\n",
    "    model.compile(optimizer=\"Adam\")\n",
    "    if use_cuda:\n",
    "        model = model.cuda()\n",
    "    model.fit(dataset=train_dataset, n_epochs=20, batch_size=10000)\n",
    "    models_dropout.append(model)"
   ]
  },
  {
   "cell_type": "code",
   "execution_count": 149,
   "metadata": {},
   "outputs": [
    {
     "data": {
      "image/png": "[encoded data removed]",
      "text/plain": [
       "<Figure size 432x288 with 1 Axes>"
      ]
     },
     "metadata": {
      "needs_background": "light"
     },
     "output_type": "display_data"
    }
   ],
   "source": [
    "for model in models_dropout:\n",
    "    plt.plot(np.arange(20),model.loss_values)\n",
    "plt.ylabel('Train Error')\n",
    "plt.xlabel('epoch')\n",
    "\n",
    "plt.legend(dropouts, loc='upper right')\n",
    "plt.title(\"Training error for different dropout values\")\n",
    "plt.show()"
   ]
  },
  {
   "cell_type": "code",
   "execution_count": 150,
   "metadata": {},
   "outputs": [
    {
     "name": "stdout",
     "output_type": "stream",
     "text": [
      "for dropouts: [0, 0]\n",
      "test mean squared error: 1.2988555263780022\n",
      "test mean absolute error: 0.9490574610842617\n",
      "for dropouts: [0.1, 0.1]\n",
      "test mean squared error: 1.2572319453688081\n",
      "test mean absolute error: 0.9365886931306339\n",
      "for dropouts: [0.3, 0.3]\n",
      "test mean squared error: 3.034944972308348\n",
      "test mean absolute error: 1.4137933613708875\n",
      "for dropouts: [0.6, 0.6]\n",
      "test mean squared error: 1.3035711076254703\n",
      "test mean absolute error: 0.9299174546968985\n",
      "for dropouts: [0.7, 0.7]\n",
      "test mean squared error: 1.3446036186510069\n",
      "test mean absolute error: 0.954967237507533\n",
      "for dropouts: [1, 1]\n",
      "test mean squared error: 1.334427961553292\n",
      "test mean absolute error: 0.9367642377699688\n"
     ]
    }
   ],
   "source": [
    "for model in models_dropout:\n",
    "    print(\"for dropouts: \"+ str(model.dropout))\n",
    "    y_pred = model.predict(dataset=test_dataset)\n",
    "    y = test_dataset.labels\n",
    "    print(\"test mean squared error: \"+str(mean_squared_error(y_pred,y)))\n",
    "    print(\"test mean absolute error: \"+ str(mean_absolute_error(y_pred,y)))"
   ]
  }
 ],
 "metadata": {
  "kernelspec": {
   "display_name": "Python 3",
   "language": "python",
   "name": "python3"
  },
  "language_info": {
   "codemirror_mode": {
    "name": "ipython",
    "version": 3
   },
   "file_extension": ".py",
   "mimetype": "text/x-python",
   "name": "python",
   "nbconvert_exporter": "python",
   "pygments_lexer": "ipython3",
   "version": "3.7.3"
  }
 },
 "nbformat": 4,
 "nbformat_minor": 2
}
