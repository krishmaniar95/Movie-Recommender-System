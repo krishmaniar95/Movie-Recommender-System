{
 "cells": [
  {
   "cell_type": "code",
   "execution_count": 3,
   "metadata": {},
   "outputs": [],
   "source": [
    "%matplotlib inline \n",
    "#Importing the required libraries\n",
    "import pandas as pd\n",
    "import numpy as np\n",
    "import matplotlib.pyplot as plt\n",
    "import torch\n",
    "\n",
    "import torch.autograd as autograd\n",
    "import torch.nn as nn\n",
    "import torch.nn.functional as F\n",
    "import torch.optim as optim\n",
    "from torch.autograd import Variable\n",
    "from torch.utils.data import Dataset, DataLoader \n",
    "from collections import namedtuple\n",
    "\n",
    "from sklearn.preprocessing import StandardScaler\n",
    "from sklearn.model_selection import train_test_split\n",
    "from sklearn.metrics import mean_absolute_error, mean_squared_error"
   ]
  },
  {
   "cell_type": "markdown",
   "metadata": {},
   "source": [
    "Loading the data files:"
   ]
  },
  {
   "cell_type": "code",
   "execution_count": 4,
   "metadata": {},
   "outputs": [
    {
     "data": {
      "text/html": [
       "<div>\n",
       "<style scoped>\n",
       "    .dataframe tbody tr th:only-of-type {\n",
       "        vertical-align: middle;\n",
       "    }\n",
       "\n",
       "    .dataframe tbody tr th {\n",
       "        vertical-align: top;\n",
       "    }\n",
       "\n",
       "    .dataframe thead th {\n",
       "        text-align: right;\n",
       "    }\n",
       "</style>\n",
       "<table border=\"1\" class=\"dataframe\">\n",
       "  <thead>\n",
       "    <tr style=\"text-align: right;\">\n",
       "      <th></th>\n",
       "      <th>userid</th>\n",
       "      <th>movieid</th>\n",
       "      <th>ratings</th>\n",
       "      <th>timestamp</th>\n",
       "    </tr>\n",
       "  </thead>\n",
       "  <tbody>\n",
       "    <tr>\n",
       "      <th>0</th>\n",
       "      <td>1</td>\n",
       "      <td>1193</td>\n",
       "      <td>5</td>\n",
       "      <td>978300760</td>\n",
       "    </tr>\n",
       "    <tr>\n",
       "      <th>1</th>\n",
       "      <td>1</td>\n",
       "      <td>661</td>\n",
       "      <td>3</td>\n",
       "      <td>978302109</td>\n",
       "    </tr>\n",
       "    <tr>\n",
       "      <th>2</th>\n",
       "      <td>1</td>\n",
       "      <td>914</td>\n",
       "      <td>3</td>\n",
       "      <td>978301968</td>\n",
       "    </tr>\n",
       "    <tr>\n",
       "      <th>3</th>\n",
       "      <td>1</td>\n",
       "      <td>3408</td>\n",
       "      <td>4</td>\n",
       "      <td>978300275</td>\n",
       "    </tr>\n",
       "    <tr>\n",
       "      <th>4</th>\n",
       "      <td>1</td>\n",
       "      <td>2355</td>\n",
       "      <td>5</td>\n",
       "      <td>978824291</td>\n",
       "    </tr>\n",
       "  </tbody>\n",
       "</table>\n",
       "</div>"
      ],
      "text/plain": [
       "   userid  movieid  ratings  timestamp\n",
       "0       1     1193        5  978300760\n",
       "1       1      661        3  978302109\n",
       "2       1      914        3  978301968\n",
       "3       1     3408        4  978300275\n",
       "4       1     2355        5  978824291"
      ]
     },
     "execution_count": 4,
     "metadata": {},
     "output_type": "execute_result"
    }
   ],
   "source": [
    "#Ratings Database File\n",
    "Ratings = pd.read_csv(\"ratings.dat\", sep = \"::\", engine = \"python\", header = None)\n",
    "Ratings.columns = [\"userid\",\"movieid\",\"ratings\",\"timestamp\"]\n",
    "Ratings.head()"
   ]
  },
  {
   "cell_type": "code",
   "execution_count": 5,
   "metadata": {},
   "outputs": [
    {
     "data": {
      "text/html": [
       "<div>\n",
       "<style scoped>\n",
       "    .dataframe tbody tr th:only-of-type {\n",
       "        vertical-align: middle;\n",
       "    }\n",
       "\n",
       "    .dataframe tbody tr th {\n",
       "        vertical-align: top;\n",
       "    }\n",
       "\n",
       "    .dataframe thead th {\n",
       "        text-align: right;\n",
       "    }\n",
       "</style>\n",
       "<table border=\"1\" class=\"dataframe\">\n",
       "  <thead>\n",
       "    <tr style=\"text-align: right;\">\n",
       "      <th></th>\n",
       "      <th>movieid</th>\n",
       "      <th>title</th>\n",
       "      <th>genres</th>\n",
       "    </tr>\n",
       "  </thead>\n",
       "  <tbody>\n",
       "    <tr>\n",
       "      <th>0</th>\n",
       "      <td>1</td>\n",
       "      <td>Toy Story (1995)</td>\n",
       "      <td>Animation|Children's|Comedy</td>\n",
       "    </tr>\n",
       "    <tr>\n",
       "      <th>1</th>\n",
       "      <td>2</td>\n",
       "      <td>Jumanji (1995)</td>\n",
       "      <td>Adventure|Children's|Fantasy</td>\n",
       "    </tr>\n",
       "    <tr>\n",
       "      <th>2</th>\n",
       "      <td>3</td>\n",
       "      <td>Grumpier Old Men (1995)</td>\n",
       "      <td>Comedy|Romance</td>\n",
       "    </tr>\n",
       "    <tr>\n",
       "      <th>3</th>\n",
       "      <td>4</td>\n",
       "      <td>Waiting to Exhale (1995)</td>\n",
       "      <td>Comedy|Drama</td>\n",
       "    </tr>\n",
       "    <tr>\n",
       "      <th>4</th>\n",
       "      <td>5</td>\n",
       "      <td>Father of the Bride Part II (1995)</td>\n",
       "      <td>Comedy</td>\n",
       "    </tr>\n",
       "  </tbody>\n",
       "</table>\n",
       "</div>"
      ],
      "text/plain": [
       "   movieid                               title                        genres\n",
       "0        1                    Toy Story (1995)   Animation|Children's|Comedy\n",
       "1        2                      Jumanji (1995)  Adventure|Children's|Fantasy\n",
       "2        3             Grumpier Old Men (1995)                Comedy|Romance\n",
       "3        4            Waiting to Exhale (1995)                  Comedy|Drama\n",
       "4        5  Father of the Bride Part II (1995)                        Comedy"
      ]
     },
     "execution_count": 5,
     "metadata": {},
     "output_type": "execute_result"
    }
   ],
   "source": [
    "#Movie Database file:\n",
    "movies = pd.read_csv(\"movies.dat\", sep = \"::\", header = None, engine = 'python')\n",
    "movies.columns = [\"movieid\",\"title\",\"genres\"]\n",
    "movies.head()"
   ]
  },
  {
   "cell_type": "code",
   "execution_count": 6,
   "metadata": {},
   "outputs": [
    {
     "data": {
      "text/html": [
       "<div>\n",
       "<style scoped>\n",
       "    .dataframe tbody tr th:only-of-type {\n",
       "        vertical-align: middle;\n",
       "    }\n",
       "\n",
       "    .dataframe tbody tr th {\n",
       "        vertical-align: top;\n",
       "    }\n",
       "\n",
       "    .dataframe thead th {\n",
       "        text-align: right;\n",
       "    }\n",
       "</style>\n",
       "<table border=\"1\" class=\"dataframe\">\n",
       "  <thead>\n",
       "    <tr style=\"text-align: right;\">\n",
       "      <th></th>\n",
       "      <th>userid</th>\n",
       "      <th>gender</th>\n",
       "      <th>age</th>\n",
       "      <th>occupation</th>\n",
       "      <th>zipcode</th>\n",
       "    </tr>\n",
       "  </thead>\n",
       "  <tbody>\n",
       "    <tr>\n",
       "      <th>0</th>\n",
       "      <td>1</td>\n",
       "      <td>F</td>\n",
       "      <td>1</td>\n",
       "      <td>10</td>\n",
       "      <td>48067</td>\n",
       "    </tr>\n",
       "    <tr>\n",
       "      <th>1</th>\n",
       "      <td>2</td>\n",
       "      <td>M</td>\n",
       "      <td>56</td>\n",
       "      <td>16</td>\n",
       "      <td>70072</td>\n",
       "    </tr>\n",
       "    <tr>\n",
       "      <th>2</th>\n",
       "      <td>3</td>\n",
       "      <td>M</td>\n",
       "      <td>25</td>\n",
       "      <td>15</td>\n",
       "      <td>55117</td>\n",
       "    </tr>\n",
       "    <tr>\n",
       "      <th>3</th>\n",
       "      <td>4</td>\n",
       "      <td>M</td>\n",
       "      <td>45</td>\n",
       "      <td>7</td>\n",
       "      <td>02460</td>\n",
       "    </tr>\n",
       "    <tr>\n",
       "      <th>4</th>\n",
       "      <td>5</td>\n",
       "      <td>M</td>\n",
       "      <td>25</td>\n",
       "      <td>20</td>\n",
       "      <td>55455</td>\n",
       "    </tr>\n",
       "  </tbody>\n",
       "</table>\n",
       "</div>"
      ],
      "text/plain": [
       "   userid gender  age  occupation zipcode\n",
       "0       1      F    1          10   48067\n",
       "1       2      M   56          16   70072\n",
       "2       3      M   25          15   55117\n",
       "3       4      M   45           7   02460\n",
       "4       5      M   25          20   55455"
      ]
     },
     "execution_count": 6,
     "metadata": {},
     "output_type": "execute_result"
    }
   ],
   "source": [
    "#User Database file:\n",
    "users = pd.read_csv(\"users.dat\", sep = \"::\", header = None, engine = \"python\")\n",
    "users.columns = [\"userid\", \"gender\", \"age\", \"occupation\", \"zipcode\"]\n",
    "users.head()"
   ]
  },
  {
   "cell_type": "code",
   "execution_count": 7,
   "metadata": {},
   "outputs": [
    {
     "name": "stdout",
     "output_type": "stream",
     "text": [
      "Total number of users 6040\n",
      "Total number of movies: 3706\n"
     ]
    }
   ],
   "source": [
    "n_users = Ratings.userid.unique().shape[0]\n",
    "n_movies = Ratings.movieid.unique().shape[0]\n",
    "\n",
    "print (\"Total number of users {}\".format(n_users))\n",
    "print(\"Total number of movies: {}\".format(n_movies))"
   ]
  },
  {
   "cell_type": "markdown",
   "metadata": {},
   "source": [
    "Data Processing "
   ]
  },
  {
   "cell_type": "code",
   "execution_count": 8,
   "metadata": {},
   "outputs": [
    {
     "data": {
      "text/html": [
       "<div>\n",
       "<style scoped>\n",
       "    .dataframe tbody tr th:only-of-type {\n",
       "        vertical-align: middle;\n",
       "    }\n",
       "\n",
       "    .dataframe tbody tr th {\n",
       "        vertical-align: top;\n",
       "    }\n",
       "\n",
       "    .dataframe thead th {\n",
       "        text-align: right;\n",
       "    }\n",
       "</style>\n",
       "<table border=\"1\" class=\"dataframe\">\n",
       "  <thead>\n",
       "    <tr style=\"text-align: right;\">\n",
       "      <th></th>\n",
       "      <th>userid</th>\n",
       "      <th>movieid</th>\n",
       "      <th>ratings</th>\n",
       "    </tr>\n",
       "  </thead>\n",
       "  <tbody>\n",
       "    <tr>\n",
       "      <th>0</th>\n",
       "      <td>1</td>\n",
       "      <td>1193</td>\n",
       "      <td>5</td>\n",
       "    </tr>\n",
       "    <tr>\n",
       "      <th>1</th>\n",
       "      <td>1</td>\n",
       "      <td>661</td>\n",
       "      <td>3</td>\n",
       "    </tr>\n",
       "    <tr>\n",
       "      <th>2</th>\n",
       "      <td>1</td>\n",
       "      <td>914</td>\n",
       "      <td>3</td>\n",
       "    </tr>\n",
       "    <tr>\n",
       "      <th>3</th>\n",
       "      <td>1</td>\n",
       "      <td>3408</td>\n",
       "      <td>4</td>\n",
       "    </tr>\n",
       "    <tr>\n",
       "      <th>4</th>\n",
       "      <td>1</td>\n",
       "      <td>2355</td>\n",
       "      <td>5</td>\n",
       "    </tr>\n",
       "  </tbody>\n",
       "</table>\n",
       "</div>"
      ],
      "text/plain": [
       "   userid  movieid  ratings\n",
       "0       1     1193        5\n",
       "1       1      661        3\n",
       "2       1      914        3\n",
       "3       1     3408        4\n",
       "4       1     2355        5"
      ]
     },
     "execution_count": 8,
     "metadata": {},
     "output_type": "execute_result"
    }
   ],
   "source": [
    "#Removing the timestamp column:\n",
    "Ratings = Ratings.drop(\"timestamp\", axis = 1)\n",
    "Ratings.head()"
   ]
  },
  {
   "cell_type": "code",
   "execution_count": 9,
   "metadata": {},
   "outputs": [
    {
     "data": {
      "text/html": [
       "<div>\n",
       "<style scoped>\n",
       "    .dataframe tbody tr th:only-of-type {\n",
       "        vertical-align: middle;\n",
       "    }\n",
       "\n",
       "    .dataframe tbody tr th {\n",
       "        vertical-align: top;\n",
       "    }\n",
       "\n",
       "    .dataframe thead th {\n",
       "        text-align: right;\n",
       "    }\n",
       "</style>\n",
       "<table border=\"1\" class=\"dataframe\">\n",
       "  <thead>\n",
       "    <tr style=\"text-align: right;\">\n",
       "      <th></th>\n",
       "      <th>movieid</th>\n",
       "      <th>title</th>\n",
       "      <th>genres</th>\n",
       "    </tr>\n",
       "  </thead>\n",
       "  <tbody>\n",
       "    <tr>\n",
       "      <th>0</th>\n",
       "      <td>1</td>\n",
       "      <td>Toy Story (1995)</td>\n",
       "      <td>Animation</td>\n",
       "    </tr>\n",
       "    <tr>\n",
       "      <th>1</th>\n",
       "      <td>2</td>\n",
       "      <td>Jumanji (1995)</td>\n",
       "      <td>Adventure</td>\n",
       "    </tr>\n",
       "    <tr>\n",
       "      <th>2</th>\n",
       "      <td>3</td>\n",
       "      <td>Grumpier Old Men (1995)</td>\n",
       "      <td>Comedy</td>\n",
       "    </tr>\n",
       "    <tr>\n",
       "      <th>3</th>\n",
       "      <td>4</td>\n",
       "      <td>Waiting to Exhale (1995)</td>\n",
       "      <td>Comedy</td>\n",
       "    </tr>\n",
       "    <tr>\n",
       "      <th>4</th>\n",
       "      <td>5</td>\n",
       "      <td>Father of the Bride Part II (1995)</td>\n",
       "      <td>Comedy</td>\n",
       "    </tr>\n",
       "  </tbody>\n",
       "</table>\n",
       "</div>"
      ],
      "text/plain": [
       "   movieid                               title     genres\n",
       "0        1                    Toy Story (1995)  Animation\n",
       "1        2                      Jumanji (1995)  Adventure\n",
       "2        3             Grumpier Old Men (1995)     Comedy\n",
       "3        4            Waiting to Exhale (1995)     Comedy\n",
       "4        5  Father of the Bride Part II (1995)     Comedy"
      ]
     },
     "execution_count": 9,
     "metadata": {},
     "output_type": "execute_result"
    }
   ],
   "source": [
    "movies[\"genres\"] = movies.apply(lambda row : row['genres'].split(\"|\")[0],axis=1)\n",
    "movies.head()"
   ]
  },
  {
   "cell_type": "code",
   "execution_count": 10,
   "metadata": {},
   "outputs": [
    {
     "data": {
      "text/html": [
       "<div>\n",
       "<style scoped>\n",
       "    .dataframe tbody tr th:only-of-type {\n",
       "        vertical-align: middle;\n",
       "    }\n",
       "\n",
       "    .dataframe tbody tr th {\n",
       "        vertical-align: top;\n",
       "    }\n",
       "\n",
       "    .dataframe thead th {\n",
       "        text-align: right;\n",
       "    }\n",
       "</style>\n",
       "<table border=\"1\" class=\"dataframe\">\n",
       "  <thead>\n",
       "    <tr style=\"text-align: right;\">\n",
       "      <th></th>\n",
       "      <th>movieid</th>\n",
       "      <th>title</th>\n",
       "      <th>genres</th>\n",
       "      <th>movie_year</th>\n",
       "    </tr>\n",
       "  </thead>\n",
       "  <tbody>\n",
       "    <tr>\n",
       "      <th>0</th>\n",
       "      <td>1</td>\n",
       "      <td>Toy Story (1995)</td>\n",
       "      <td>Animation</td>\n",
       "      <td>1995</td>\n",
       "    </tr>\n",
       "    <tr>\n",
       "      <th>1</th>\n",
       "      <td>2</td>\n",
       "      <td>Jumanji (1995)</td>\n",
       "      <td>Adventure</td>\n",
       "      <td>1995</td>\n",
       "    </tr>\n",
       "    <tr>\n",
       "      <th>2</th>\n",
       "      <td>3</td>\n",
       "      <td>Grumpier Old Men (1995)</td>\n",
       "      <td>Comedy</td>\n",
       "      <td>1995</td>\n",
       "    </tr>\n",
       "    <tr>\n",
       "      <th>3</th>\n",
       "      <td>4</td>\n",
       "      <td>Waiting to Exhale (1995)</td>\n",
       "      <td>Comedy</td>\n",
       "      <td>1995</td>\n",
       "    </tr>\n",
       "    <tr>\n",
       "      <th>4</th>\n",
       "      <td>5</td>\n",
       "      <td>Father of the Bride Part II (1995)</td>\n",
       "      <td>Comedy</td>\n",
       "      <td>1995</td>\n",
       "    </tr>\n",
       "  </tbody>\n",
       "</table>\n",
       "</div>"
      ],
      "text/plain": [
       "   movieid                               title     genres  movie_year\n",
       "0        1                    Toy Story (1995)  Animation        1995\n",
       "1        2                      Jumanji (1995)  Adventure        1995\n",
       "2        3             Grumpier Old Men (1995)     Comedy        1995\n",
       "3        4            Waiting to Exhale (1995)     Comedy        1995\n",
       "4        5  Father of the Bride Part II (1995)     Comedy        1995"
      ]
     },
     "execution_count": 10,
     "metadata": {},
     "output_type": "execute_result"
    }
   ],
   "source": [
    "movies['movie_year'] = movies.apply(lambda row : int(row['title'].split(\"(\")[-1][:-1]),axis=1)\n",
    "movies.head()"
   ]
  },
  {
   "cell_type": "code",
   "execution_count": 15,
   "metadata": {},
   "outputs": [
    {
     "ename": "KeyError",
     "evalue": "\"['title'] not found in axis\"",
     "output_type": "error",
     "traceback": [
      "\u001b[1;31m---------------------------------------------------------------------------\u001b[0m",
      "\u001b[1;31mKeyError\u001b[0m                                  Traceback (most recent call last)",
      "\u001b[1;32m<ipython-input-15-0e6ab60add42>\u001b[0m in \u001b[0;36m<module>\u001b[1;34m\u001b[0m\n\u001b[1;32m----> 1\u001b[1;33m \u001b[0mmovies\u001b[0m\u001b[1;33m.\u001b[0m\u001b[0mdrop\u001b[0m\u001b[1;33m(\u001b[0m\u001b[1;33m[\u001b[0m\u001b[1;34m\"title\"\u001b[0m\u001b[1;33m]\u001b[0m\u001b[1;33m,\u001b[0m \u001b[0maxis\u001b[0m \u001b[1;33m=\u001b[0m \u001b[1;36m1\u001b[0m\u001b[1;33m,\u001b[0m \u001b[0minplace\u001b[0m \u001b[1;33m=\u001b[0m \u001b[1;32mTrue\u001b[0m\u001b[1;33m)\u001b[0m\u001b[1;33m\u001b[0m\u001b[1;33m\u001b[0m\u001b[0m\n\u001b[0m\u001b[0;32m      2\u001b[0m \u001b[0mmovie_ratings\u001b[0m \u001b[1;33m=\u001b[0m \u001b[0mpd\u001b[0m\u001b[1;33m.\u001b[0m\u001b[0mmerge\u001b[0m\u001b[1;33m(\u001b[0m\u001b[0mRatings\u001b[0m\u001b[1;33m,\u001b[0m \u001b[0mmovies\u001b[0m\u001b[1;33m,\u001b[0m \u001b[0mhow\u001b[0m \u001b[1;33m=\u001b[0m \u001b[1;34m\"left\"\u001b[0m\u001b[1;33m,\u001b[0m \u001b[0mon\u001b[0m \u001b[1;33m=\u001b[0m\u001b[1;34m\"movieid\"\u001b[0m\u001b[1;33m)\u001b[0m\u001b[1;33m\u001b[0m\u001b[1;33m\u001b[0m\u001b[0m\n",
      "\u001b[1;32mC:\\ProgramData\\Anaconda3\\lib\\site-packages\\pandas\\core\\frame.py\u001b[0m in \u001b[0;36mdrop\u001b[1;34m(self, labels, axis, index, columns, level, inplace, errors)\u001b[0m\n\u001b[0;32m   3938\u001b[0m                                            \u001b[0mindex\u001b[0m\u001b[1;33m=\u001b[0m\u001b[0mindex\u001b[0m\u001b[1;33m,\u001b[0m \u001b[0mcolumns\u001b[0m\u001b[1;33m=\u001b[0m\u001b[0mcolumns\u001b[0m\u001b[1;33m,\u001b[0m\u001b[1;33m\u001b[0m\u001b[1;33m\u001b[0m\u001b[0m\n\u001b[0;32m   3939\u001b[0m                                            \u001b[0mlevel\u001b[0m\u001b[1;33m=\u001b[0m\u001b[0mlevel\u001b[0m\u001b[1;33m,\u001b[0m \u001b[0minplace\u001b[0m\u001b[1;33m=\u001b[0m\u001b[0minplace\u001b[0m\u001b[1;33m,\u001b[0m\u001b[1;33m\u001b[0m\u001b[1;33m\u001b[0m\u001b[0m\n\u001b[1;32m-> 3940\u001b[1;33m                                            errors=errors)\n\u001b[0m\u001b[0;32m   3941\u001b[0m \u001b[1;33m\u001b[0m\u001b[0m\n\u001b[0;32m   3942\u001b[0m     @rewrite_axis_style_signature('mapper', [('copy', True),\n",
      "\u001b[1;32mC:\\ProgramData\\Anaconda3\\lib\\site-packages\\pandas\\core\\generic.py\u001b[0m in \u001b[0;36mdrop\u001b[1;34m(self, labels, axis, index, columns, level, inplace, errors)\u001b[0m\n\u001b[0;32m   3778\u001b[0m         \u001b[1;32mfor\u001b[0m \u001b[0maxis\u001b[0m\u001b[1;33m,\u001b[0m \u001b[0mlabels\u001b[0m \u001b[1;32min\u001b[0m \u001b[0maxes\u001b[0m\u001b[1;33m.\u001b[0m\u001b[0mitems\u001b[0m\u001b[1;33m(\u001b[0m\u001b[1;33m)\u001b[0m\u001b[1;33m:\u001b[0m\u001b[1;33m\u001b[0m\u001b[1;33m\u001b[0m\u001b[0m\n\u001b[0;32m   3779\u001b[0m             \u001b[1;32mif\u001b[0m \u001b[0mlabels\u001b[0m \u001b[1;32mis\u001b[0m \u001b[1;32mnot\u001b[0m \u001b[1;32mNone\u001b[0m\u001b[1;33m:\u001b[0m\u001b[1;33m\u001b[0m\u001b[1;33m\u001b[0m\u001b[0m\n\u001b[1;32m-> 3780\u001b[1;33m                 \u001b[0mobj\u001b[0m \u001b[1;33m=\u001b[0m \u001b[0mobj\u001b[0m\u001b[1;33m.\u001b[0m\u001b[0m_drop_axis\u001b[0m\u001b[1;33m(\u001b[0m\u001b[0mlabels\u001b[0m\u001b[1;33m,\u001b[0m \u001b[0maxis\u001b[0m\u001b[1;33m,\u001b[0m \u001b[0mlevel\u001b[0m\u001b[1;33m=\u001b[0m\u001b[0mlevel\u001b[0m\u001b[1;33m,\u001b[0m \u001b[0merrors\u001b[0m\u001b[1;33m=\u001b[0m\u001b[0merrors\u001b[0m\u001b[1;33m)\u001b[0m\u001b[1;33m\u001b[0m\u001b[1;33m\u001b[0m\u001b[0m\n\u001b[0m\u001b[0;32m   3781\u001b[0m \u001b[1;33m\u001b[0m\u001b[0m\n\u001b[0;32m   3782\u001b[0m         \u001b[1;32mif\u001b[0m \u001b[0minplace\u001b[0m\u001b[1;33m:\u001b[0m\u001b[1;33m\u001b[0m\u001b[1;33m\u001b[0m\u001b[0m\n",
      "\u001b[1;32mC:\\ProgramData\\Anaconda3\\lib\\site-packages\\pandas\\core\\generic.py\u001b[0m in \u001b[0;36m_drop_axis\u001b[1;34m(self, labels, axis, level, errors)\u001b[0m\n\u001b[0;32m   3810\u001b[0m                 \u001b[0mnew_axis\u001b[0m \u001b[1;33m=\u001b[0m \u001b[0maxis\u001b[0m\u001b[1;33m.\u001b[0m\u001b[0mdrop\u001b[0m\u001b[1;33m(\u001b[0m\u001b[0mlabels\u001b[0m\u001b[1;33m,\u001b[0m \u001b[0mlevel\u001b[0m\u001b[1;33m=\u001b[0m\u001b[0mlevel\u001b[0m\u001b[1;33m,\u001b[0m \u001b[0merrors\u001b[0m\u001b[1;33m=\u001b[0m\u001b[0merrors\u001b[0m\u001b[1;33m)\u001b[0m\u001b[1;33m\u001b[0m\u001b[1;33m\u001b[0m\u001b[0m\n\u001b[0;32m   3811\u001b[0m             \u001b[1;32melse\u001b[0m\u001b[1;33m:\u001b[0m\u001b[1;33m\u001b[0m\u001b[1;33m\u001b[0m\u001b[0m\n\u001b[1;32m-> 3812\u001b[1;33m                 \u001b[0mnew_axis\u001b[0m \u001b[1;33m=\u001b[0m \u001b[0maxis\u001b[0m\u001b[1;33m.\u001b[0m\u001b[0mdrop\u001b[0m\u001b[1;33m(\u001b[0m\u001b[0mlabels\u001b[0m\u001b[1;33m,\u001b[0m \u001b[0merrors\u001b[0m\u001b[1;33m=\u001b[0m\u001b[0merrors\u001b[0m\u001b[1;33m)\u001b[0m\u001b[1;33m\u001b[0m\u001b[1;33m\u001b[0m\u001b[0m\n\u001b[0m\u001b[0;32m   3813\u001b[0m             \u001b[0mresult\u001b[0m \u001b[1;33m=\u001b[0m \u001b[0mself\u001b[0m\u001b[1;33m.\u001b[0m\u001b[0mreindex\u001b[0m\u001b[1;33m(\u001b[0m\u001b[1;33m**\u001b[0m\u001b[1;33m{\u001b[0m\u001b[0maxis_name\u001b[0m\u001b[1;33m:\u001b[0m \u001b[0mnew_axis\u001b[0m\u001b[1;33m}\u001b[0m\u001b[1;33m)\u001b[0m\u001b[1;33m\u001b[0m\u001b[1;33m\u001b[0m\u001b[0m\n\u001b[0;32m   3814\u001b[0m \u001b[1;33m\u001b[0m\u001b[0m\n",
      "\u001b[1;32mC:\\ProgramData\\Anaconda3\\lib\\site-packages\\pandas\\core\\indexes\\base.py\u001b[0m in \u001b[0;36mdrop\u001b[1;34m(self, labels, errors)\u001b[0m\n\u001b[0;32m   4963\u001b[0m             \u001b[1;32mif\u001b[0m \u001b[0merrors\u001b[0m \u001b[1;33m!=\u001b[0m \u001b[1;34m'ignore'\u001b[0m\u001b[1;33m:\u001b[0m\u001b[1;33m\u001b[0m\u001b[1;33m\u001b[0m\u001b[0m\n\u001b[0;32m   4964\u001b[0m                 raise KeyError(\n\u001b[1;32m-> 4965\u001b[1;33m                     '{} not found in axis'.format(labels[mask]))\n\u001b[0m\u001b[0;32m   4966\u001b[0m             \u001b[0mindexer\u001b[0m \u001b[1;33m=\u001b[0m \u001b[0mindexer\u001b[0m\u001b[1;33m[\u001b[0m\u001b[1;33m~\u001b[0m\u001b[0mmask\u001b[0m\u001b[1;33m]\u001b[0m\u001b[1;33m\u001b[0m\u001b[1;33m\u001b[0m\u001b[0m\n\u001b[0;32m   4967\u001b[0m         \u001b[1;32mreturn\u001b[0m \u001b[0mself\u001b[0m\u001b[1;33m.\u001b[0m\u001b[0mdelete\u001b[0m\u001b[1;33m(\u001b[0m\u001b[0mindexer\u001b[0m\u001b[1;33m)\u001b[0m\u001b[1;33m\u001b[0m\u001b[1;33m\u001b[0m\u001b[0m\n",
      "\u001b[1;31mKeyError\u001b[0m: \"['title'] not found in axis\""
     ]
    }
   ],
   "source": [
    "movies.drop([\"title\"], axis = 1, inplace = True)\n",
    "movie_ratings = pd.merge(Ratings, movies, how = \"left\", on =\"movieid\")"
   ]
  },
  {
   "cell_type": "markdown",
   "metadata": {},
   "source": [
    "One hot encoding categorical variables:"
   ]
  },
  {
   "cell_type": "code",
   "execution_count": 14,
   "metadata": {},
   "outputs": [
    {
     "ename": "TypeError",
     "evalue": "Cannot compare types 'ndarray(dtype=int64)' and 'str'",
     "output_type": "error",
     "traceback": [
      "\u001b[1;31m---------------------------------------------------------------------------\u001b[0m",
      "\u001b[1;31mTypeError\u001b[0m                                 Traceback (most recent call last)",
      "\u001b[1;32m<ipython-input-14-26fee900489a>\u001b[0m in \u001b[0;36m<module>\u001b[1;34m\u001b[0m\n\u001b[1;32m----> 1\u001b[1;33m \u001b[0musers\u001b[0m\u001b[1;33m[\u001b[0m\u001b[1;34m\"gender\"\u001b[0m\u001b[1;33m]\u001b[0m\u001b[1;33m.\u001b[0m\u001b[0mreplace\u001b[0m\u001b[1;33m(\u001b[0m\u001b[1;33m{\u001b[0m\u001b[1;34m\"F\"\u001b[0m\u001b[1;33m:\u001b[0m\u001b[1;36m0\u001b[0m\u001b[1;33m,\u001b[0m \u001b[1;34m\"M\"\u001b[0m\u001b[1;33m:\u001b[0m\u001b[1;36m1\u001b[0m\u001b[1;33m}\u001b[0m\u001b[1;33m,\u001b[0m \u001b[0minplace\u001b[0m \u001b[1;33m=\u001b[0m \u001b[1;32mTrue\u001b[0m\u001b[1;33m)\u001b[0m\u001b[1;33m\u001b[0m\u001b[1;33m\u001b[0m\u001b[0m\n\u001b[0m",
      "\u001b[1;32mC:\\ProgramData\\Anaconda3\\lib\\site-packages\\pandas\\core\\series.py\u001b[0m in \u001b[0;36mreplace\u001b[1;34m(self, to_replace, value, inplace, limit, regex, method)\u001b[0m\n\u001b[0;32m   3843\u001b[0m         return super(Series, self).replace(to_replace=to_replace, value=value,\n\u001b[0;32m   3844\u001b[0m                                            \u001b[0minplace\u001b[0m\u001b[1;33m=\u001b[0m\u001b[0minplace\u001b[0m\u001b[1;33m,\u001b[0m \u001b[0mlimit\u001b[0m\u001b[1;33m=\u001b[0m\u001b[0mlimit\u001b[0m\u001b[1;33m,\u001b[0m\u001b[1;33m\u001b[0m\u001b[1;33m\u001b[0m\u001b[0m\n\u001b[1;32m-> 3845\u001b[1;33m                                            regex=regex, method=method)\n\u001b[0m\u001b[0;32m   3846\u001b[0m \u001b[1;33m\u001b[0m\u001b[0m\n\u001b[0;32m   3847\u001b[0m     \u001b[1;33m@\u001b[0m\u001b[0mAppender\u001b[0m\u001b[1;33m(\u001b[0m\u001b[0mgeneric\u001b[0m\u001b[1;33m.\u001b[0m\u001b[0m_shared_docs\u001b[0m\u001b[1;33m[\u001b[0m\u001b[1;34m'shift'\u001b[0m\u001b[1;33m]\u001b[0m \u001b[1;33m%\u001b[0m \u001b[0m_shared_doc_kwargs\u001b[0m\u001b[1;33m)\u001b[0m\u001b[1;33m\u001b[0m\u001b[1;33m\u001b[0m\u001b[0m\n",
      "\u001b[1;32mC:\\ProgramData\\Anaconda3\\lib\\site-packages\\pandas\\core\\generic.py\u001b[0m in \u001b[0;36mreplace\u001b[1;34m(self, to_replace, value, inplace, limit, regex, method)\u001b[0m\n\u001b[0;32m   6496\u001b[0m \u001b[1;33m\u001b[0m\u001b[0m\n\u001b[0;32m   6497\u001b[0m             return self.replace(to_replace, value, inplace=inplace,\n\u001b[1;32m-> 6498\u001b[1;33m                                 limit=limit, regex=regex)\n\u001b[0m\u001b[0;32m   6499\u001b[0m         \u001b[1;32melse\u001b[0m\u001b[1;33m:\u001b[0m\u001b[1;33m\u001b[0m\u001b[1;33m\u001b[0m\u001b[0m\n\u001b[0;32m   6500\u001b[0m \u001b[1;33m\u001b[0m\u001b[0m\n",
      "\u001b[1;32mC:\\ProgramData\\Anaconda3\\lib\\site-packages\\pandas\\core\\series.py\u001b[0m in \u001b[0;36mreplace\u001b[1;34m(self, to_replace, value, inplace, limit, regex, method)\u001b[0m\n\u001b[0;32m   3843\u001b[0m         return super(Series, self).replace(to_replace=to_replace, value=value,\n\u001b[0;32m   3844\u001b[0m                                            \u001b[0minplace\u001b[0m\u001b[1;33m=\u001b[0m\u001b[0minplace\u001b[0m\u001b[1;33m,\u001b[0m \u001b[0mlimit\u001b[0m\u001b[1;33m=\u001b[0m\u001b[0mlimit\u001b[0m\u001b[1;33m,\u001b[0m\u001b[1;33m\u001b[0m\u001b[1;33m\u001b[0m\u001b[0m\n\u001b[1;32m-> 3845\u001b[1;33m                                            regex=regex, method=method)\n\u001b[0m\u001b[0;32m   3846\u001b[0m \u001b[1;33m\u001b[0m\u001b[0m\n\u001b[0;32m   3847\u001b[0m     \u001b[1;33m@\u001b[0m\u001b[0mAppender\u001b[0m\u001b[1;33m(\u001b[0m\u001b[0mgeneric\u001b[0m\u001b[1;33m.\u001b[0m\u001b[0m_shared_docs\u001b[0m\u001b[1;33m[\u001b[0m\u001b[1;34m'shift'\u001b[0m\u001b[1;33m]\u001b[0m \u001b[1;33m%\u001b[0m \u001b[0m_shared_doc_kwargs\u001b[0m\u001b[1;33m)\u001b[0m\u001b[1;33m\u001b[0m\u001b[1;33m\u001b[0m\u001b[0m\n",
      "\u001b[1;32mC:\\ProgramData\\Anaconda3\\lib\\site-packages\\pandas\\core\\generic.py\u001b[0m in \u001b[0;36mreplace\u001b[1;34m(self, to_replace, value, inplace, limit, regex, method)\u001b[0m\n\u001b[0;32m   6545\u001b[0m                                                        \u001b[0mdest_list\u001b[0m\u001b[1;33m=\u001b[0m\u001b[0mvalue\u001b[0m\u001b[1;33m,\u001b[0m\u001b[1;33m\u001b[0m\u001b[1;33m\u001b[0m\u001b[0m\n\u001b[0;32m   6546\u001b[0m                                                        \u001b[0minplace\u001b[0m\u001b[1;33m=\u001b[0m\u001b[0minplace\u001b[0m\u001b[1;33m,\u001b[0m\u001b[1;33m\u001b[0m\u001b[1;33m\u001b[0m\u001b[0m\n\u001b[1;32m-> 6547\u001b[1;33m                                                        regex=regex)\n\u001b[0m\u001b[0;32m   6548\u001b[0m \u001b[1;33m\u001b[0m\u001b[0m\n\u001b[0;32m   6549\u001b[0m                 \u001b[1;32melse\u001b[0m\u001b[1;33m:\u001b[0m  \u001b[1;31m# [NA, ''] -> 0\u001b[0m\u001b[1;33m\u001b[0m\u001b[1;33m\u001b[0m\u001b[0m\n",
      "\u001b[1;32mC:\\ProgramData\\Anaconda3\\lib\\site-packages\\pandas\\core\\internals\\managers.py\u001b[0m in \u001b[0;36mreplace_list\u001b[1;34m(self, src_list, dest_list, inplace, regex)\u001b[0m\n\u001b[0;32m    557\u001b[0m             \u001b[1;32mreturn\u001b[0m \u001b[0m_compare_or_regex_search\u001b[0m\u001b[1;33m(\u001b[0m\u001b[0mvalues\u001b[0m\u001b[1;33m,\u001b[0m \u001b[0ms\u001b[0m\u001b[1;33m,\u001b[0m \u001b[0mregex\u001b[0m\u001b[1;33m)\u001b[0m\u001b[1;33m\u001b[0m\u001b[1;33m\u001b[0m\u001b[0m\n\u001b[0;32m    558\u001b[0m \u001b[1;33m\u001b[0m\u001b[0m\n\u001b[1;32m--> 559\u001b[1;33m         \u001b[0mmasks\u001b[0m \u001b[1;33m=\u001b[0m \u001b[1;33m[\u001b[0m\u001b[0mcomp\u001b[0m\u001b[1;33m(\u001b[0m\u001b[0ms\u001b[0m\u001b[1;33m,\u001b[0m \u001b[0mregex\u001b[0m\u001b[1;33m)\u001b[0m \u001b[1;32mfor\u001b[0m \u001b[0mi\u001b[0m\u001b[1;33m,\u001b[0m \u001b[0ms\u001b[0m \u001b[1;32min\u001b[0m \u001b[0menumerate\u001b[0m\u001b[1;33m(\u001b[0m\u001b[0msrc_list\u001b[0m\u001b[1;33m)\u001b[0m\u001b[1;33m]\u001b[0m\u001b[1;33m\u001b[0m\u001b[1;33m\u001b[0m\u001b[0m\n\u001b[0m\u001b[0;32m    560\u001b[0m \u001b[1;33m\u001b[0m\u001b[0m\n\u001b[0;32m    561\u001b[0m         \u001b[0mresult_blocks\u001b[0m \u001b[1;33m=\u001b[0m \u001b[1;33m[\u001b[0m\u001b[1;33m]\u001b[0m\u001b[1;33m\u001b[0m\u001b[1;33m\u001b[0m\u001b[0m\n",
      "\u001b[1;32mC:\\ProgramData\\Anaconda3\\lib\\site-packages\\pandas\\core\\internals\\managers.py\u001b[0m in \u001b[0;36m<listcomp>\u001b[1;34m(.0)\u001b[0m\n\u001b[0;32m    557\u001b[0m             \u001b[1;32mreturn\u001b[0m \u001b[0m_compare_or_regex_search\u001b[0m\u001b[1;33m(\u001b[0m\u001b[0mvalues\u001b[0m\u001b[1;33m,\u001b[0m \u001b[0ms\u001b[0m\u001b[1;33m,\u001b[0m \u001b[0mregex\u001b[0m\u001b[1;33m)\u001b[0m\u001b[1;33m\u001b[0m\u001b[1;33m\u001b[0m\u001b[0m\n\u001b[0;32m    558\u001b[0m \u001b[1;33m\u001b[0m\u001b[0m\n\u001b[1;32m--> 559\u001b[1;33m         \u001b[0mmasks\u001b[0m \u001b[1;33m=\u001b[0m \u001b[1;33m[\u001b[0m\u001b[0mcomp\u001b[0m\u001b[1;33m(\u001b[0m\u001b[0ms\u001b[0m\u001b[1;33m,\u001b[0m \u001b[0mregex\u001b[0m\u001b[1;33m)\u001b[0m \u001b[1;32mfor\u001b[0m \u001b[0mi\u001b[0m\u001b[1;33m,\u001b[0m \u001b[0ms\u001b[0m \u001b[1;32min\u001b[0m \u001b[0menumerate\u001b[0m\u001b[1;33m(\u001b[0m\u001b[0msrc_list\u001b[0m\u001b[1;33m)\u001b[0m\u001b[1;33m]\u001b[0m\u001b[1;33m\u001b[0m\u001b[1;33m\u001b[0m\u001b[0m\n\u001b[0m\u001b[0;32m    560\u001b[0m \u001b[1;33m\u001b[0m\u001b[0m\n\u001b[0;32m    561\u001b[0m         \u001b[0mresult_blocks\u001b[0m \u001b[1;33m=\u001b[0m \u001b[1;33m[\u001b[0m\u001b[1;33m]\u001b[0m\u001b[1;33m\u001b[0m\u001b[1;33m\u001b[0m\u001b[0m\n",
      "\u001b[1;32mC:\\ProgramData\\Anaconda3\\lib\\site-packages\\pandas\\core\\internals\\managers.py\u001b[0m in \u001b[0;36mcomp\u001b[1;34m(s, regex)\u001b[0m\n\u001b[0;32m    555\u001b[0m                 return _compare_or_regex_search(maybe_convert_objects(values),\n\u001b[0;32m    556\u001b[0m                                                 getattr(s, 'asm8'), regex)\n\u001b[1;32m--> 557\u001b[1;33m             \u001b[1;32mreturn\u001b[0m \u001b[0m_compare_or_regex_search\u001b[0m\u001b[1;33m(\u001b[0m\u001b[0mvalues\u001b[0m\u001b[1;33m,\u001b[0m \u001b[0ms\u001b[0m\u001b[1;33m,\u001b[0m \u001b[0mregex\u001b[0m\u001b[1;33m)\u001b[0m\u001b[1;33m\u001b[0m\u001b[1;33m\u001b[0m\u001b[0m\n\u001b[0m\u001b[0;32m    558\u001b[0m \u001b[1;33m\u001b[0m\u001b[0m\n\u001b[0;32m    559\u001b[0m         \u001b[0mmasks\u001b[0m \u001b[1;33m=\u001b[0m \u001b[1;33m[\u001b[0m\u001b[0mcomp\u001b[0m\u001b[1;33m(\u001b[0m\u001b[0ms\u001b[0m\u001b[1;33m,\u001b[0m \u001b[0mregex\u001b[0m\u001b[1;33m)\u001b[0m \u001b[1;32mfor\u001b[0m \u001b[0mi\u001b[0m\u001b[1;33m,\u001b[0m \u001b[0ms\u001b[0m \u001b[1;32min\u001b[0m \u001b[0menumerate\u001b[0m\u001b[1;33m(\u001b[0m\u001b[0msrc_list\u001b[0m\u001b[1;33m)\u001b[0m\u001b[1;33m]\u001b[0m\u001b[1;33m\u001b[0m\u001b[1;33m\u001b[0m\u001b[0m\n",
      "\u001b[1;32mC:\\ProgramData\\Anaconda3\\lib\\site-packages\\pandas\\core\\internals\\managers.py\u001b[0m in \u001b[0;36m_compare_or_regex_search\u001b[1;34m(a, b, regex)\u001b[0m\n\u001b[0;32m   1949\u001b[0m         raise TypeError(\n\u001b[0;32m   1950\u001b[0m             \"Cannot compare types {a!r} and {b!r}\".format(a=type_names[0],\n\u001b[1;32m-> 1951\u001b[1;33m                                                           b=type_names[1]))\n\u001b[0m\u001b[0;32m   1952\u001b[0m     \u001b[1;32mreturn\u001b[0m \u001b[0mresult\u001b[0m\u001b[1;33m\u001b[0m\u001b[1;33m\u001b[0m\u001b[0m\n\u001b[0;32m   1953\u001b[0m \u001b[1;33m\u001b[0m\u001b[0m\n",
      "\u001b[1;31mTypeError\u001b[0m: Cannot compare types 'ndarray(dtype=int64)' and 'str'"
     ]
    }
   ],
   "source": [
    "users[\"gender\"].replace({\"F\":0, \"M\":1}, inplace = True)"
   ]
  },
  {
   "cell_type": "code",
   "execution_count": 16,
   "metadata": {},
   "outputs": [],
   "source": [
    "users[\"age\"].replace({1:0, 18:1, 25:2, 35:3, 45:4, 50:5, 56:6}, inplace = True)"
   ]
  },
  {
   "cell_type": "code",
   "execution_count": 17,
   "metadata": {},
   "outputs": [],
   "source": [
    "users.drop([\"zipcode\"], axis = 1, inplace = True)"
   ]
  },
  {
   "cell_type": "code",
   "execution_count": 19,
   "metadata": {},
   "outputs": [],
   "source": [
    "df = pd.merge(movie_ratings,users, how = \"left\", on =\"userid\")"
   ]
  },
  {
   "cell_type": "code",
   "execution_count": 20,
   "metadata": {},
   "outputs": [
    {
     "data": {
      "text/html": [
       "<div>\n",
       "<style scoped>\n",
       "    .dataframe tbody tr th:only-of-type {\n",
       "        vertical-align: middle;\n",
       "    }\n",
       "\n",
       "    .dataframe tbody tr th {\n",
       "        vertical-align: top;\n",
       "    }\n",
       "\n",
       "    .dataframe thead th {\n",
       "        text-align: right;\n",
       "    }\n",
       "</style>\n",
       "<table border=\"1\" class=\"dataframe\">\n",
       "  <thead>\n",
       "    <tr style=\"text-align: right;\">\n",
       "      <th></th>\n",
       "      <th>userid</th>\n",
       "      <th>movieid</th>\n",
       "      <th>ratings</th>\n",
       "      <th>genres</th>\n",
       "      <th>movie_year</th>\n",
       "      <th>gender</th>\n",
       "      <th>age</th>\n",
       "      <th>occupation</th>\n",
       "    </tr>\n",
       "  </thead>\n",
       "  <tbody>\n",
       "    <tr>\n",
       "      <th>0</th>\n",
       "      <td>1</td>\n",
       "      <td>1193</td>\n",
       "      <td>5</td>\n",
       "      <td>Drama</td>\n",
       "      <td>1975</td>\n",
       "      <td>0</td>\n",
       "      <td>0</td>\n",
       "      <td>10</td>\n",
       "    </tr>\n",
       "    <tr>\n",
       "      <th>1</th>\n",
       "      <td>1</td>\n",
       "      <td>661</td>\n",
       "      <td>3</td>\n",
       "      <td>Animation</td>\n",
       "      <td>1996</td>\n",
       "      <td>0</td>\n",
       "      <td>0</td>\n",
       "      <td>10</td>\n",
       "    </tr>\n",
       "    <tr>\n",
       "      <th>2</th>\n",
       "      <td>1</td>\n",
       "      <td>914</td>\n",
       "      <td>3</td>\n",
       "      <td>Musical</td>\n",
       "      <td>1964</td>\n",
       "      <td>0</td>\n",
       "      <td>0</td>\n",
       "      <td>10</td>\n",
       "    </tr>\n",
       "    <tr>\n",
       "      <th>3</th>\n",
       "      <td>1</td>\n",
       "      <td>3408</td>\n",
       "      <td>4</td>\n",
       "      <td>Drama</td>\n",
       "      <td>2000</td>\n",
       "      <td>0</td>\n",
       "      <td>0</td>\n",
       "      <td>10</td>\n",
       "    </tr>\n",
       "    <tr>\n",
       "      <th>4</th>\n",
       "      <td>1</td>\n",
       "      <td>2355</td>\n",
       "      <td>5</td>\n",
       "      <td>Animation</td>\n",
       "      <td>1998</td>\n",
       "      <td>0</td>\n",
       "      <td>0</td>\n",
       "      <td>10</td>\n",
       "    </tr>\n",
       "  </tbody>\n",
       "</table>\n",
       "</div>"
      ],
      "text/plain": [
       "   userid  movieid  ratings     genres  movie_year  gender  age  occupation\n",
       "0       1     1193        5      Drama        1975       0    0          10\n",
       "1       1      661        3  Animation        1996       0    0          10\n",
       "2       1      914        3    Musical        1964       0    0          10\n",
       "3       1     3408        4      Drama        2000       0    0          10\n",
       "4       1     2355        5  Animation        1998       0    0          10"
      ]
     },
     "execution_count": 20,
     "metadata": {},
     "output_type": "execute_result"
    }
   ],
   "source": [
    "df.head()"
   ]
  },
  {
   "cell_type": "markdown",
   "metadata": {},
   "source": [
    "Defining functions to process the data to train the neural network:"
   ]
  },
  {
   "cell_type": "code",
   "execution_count": 21,
   "metadata": {},
   "outputs": [],
   "source": [
    "def encoder(df, columns=None):\n",
    "    if columns == None:\n",
    "        columns = list(df.select_dtypes(include = [\"object\"]).columns)\n",
    "\n",
    "    val_types = dict()\n",
    "    for i in columns:\n",
    "        val_types[i] = df[i].unique()\n",
    "\n",
    "    val_to_ind = dict()\n",
    "    for x, y in val_types.items():\n",
    "        val_to_ind[x] = {o: i for i, o in enumerate(val_types[x])}\n",
    "\n",
    "    for x, y in val_to_ind.items():\n",
    "        df[x] = df[x].apply(lambda x: y[x])\n",
    "\n",
    "    return val_to_ind, df"
   ]
  },
  {
   "cell_type": "code",
   "execution_count": 23,
   "metadata": {},
   "outputs": [],
   "source": [
    "def data_processing(df, wide_cols, embeddings_cols, continuous_cols, target,\n",
    "    scale=False, def_dim=8):\n",
    "\n",
    "\n",
    "    if type(embeddings_cols[0]) is tuple:\n",
    "        emb_dim = dict(embeddings_cols)\n",
    "        embeddings_cols = [emb[0] for emb in embeddings_cols]\n",
    "    else:\n",
    "        emb_dim = {e:def_dim for e in embeddings_cols}\n",
    "    deep_cols = embeddings_cols + continuous_cols\n",
    "    \n",
    "    #Creating a temp dataframe\n",
    "    Y = np.array(df[target])\n",
    "    all_columns = list(set(wide_cols + deep_cols ))\n",
    "    df_temp = df.copy()[all_columns]\n",
    "\n",
    "    #Extractomg the categorical column names that categorical variable names\n",
    "    categorical_columns = list(\n",
    "        df_temp.select_dtypes(include = [\"object\"]).columns)\n",
    "\n",
    "    \n",
    "    encoding_dict,df_temp = encoder(df_temp)\n",
    "    encoding_dict = {k:encoding_dict[k] for k in encoding_dict \n",
    "                     if k in deep_cols}\n",
    "    embeddings_input = []\n",
    "    for x,y in encoding_dict.items():\n",
    "        embeddings_input.append((x, len(y), emb_dim[x]))\n",
    "\n",
    "    df_deep = df_temp[deep_cols]\n",
    "    deep_column_ind = {x:y for y,x in enumerate(df_deep.columns)}\n",
    "\n",
    "\n",
    "    if scale:\n",
    "        scaler = StandardScaler()\n",
    "        for cc in continuous_cols:\n",
    "            df_deep[cc]  = scaler.fit_transform(df_deep[cc].values.reshape(-1,1))\n",
    "\n",
    "    df_wide = df_temp[wide_cols]\n",
    "    del(df_temp)\n",
    "    dummy_cols = [c for c in wide_cols if c in categorical_columns]\n",
    "    df_wide = pd.get_dummies(df_wide, columns = dummy_cols)\n",
    "\n",
    "    X_train_deep, X_test_deep = train_test_split(\n",
    "        df_deep.values, test_size = 0.3, random_state=1090)\n",
    "    X_train_wide, X_test_wide = train_test_split(\n",
    "        df_wide.values, test_size = 0.3, random_state=1090)\n",
    "    y_train, y_test = train_test_split(Y, test_size = 0.3, random_state = 1540)\n",
    "\n",
    "    group_dataset = dict()\n",
    "    train_dataset = namedtuple(\"train_dataset\", \"wide, deep, labels\")\n",
    "    test_dataset  = namedtuple(\"test_dataset\" , \"wide, deep, labels\")\n",
    "    group_dataset[\"train_dataset\"] = train_dataset(\n",
    "        X_train_wide, X_train_deep, y_train)\n",
    "    group_dataset[\"test_dataset\"]  = test_dataset(\n",
    "        X_test_wide, X_test_deep, y_test)\n",
    "    group_dataset[\"embeddings_input\"]  = embeddings_input\n",
    "    group_dataset[\"deep_column_ind\"] = deep_column_ind\n",
    "    group_dataset[\"encoding_dict\"] = encoding_dict\n",
    "\n",
    "    return group_dataset"
   ]
  },
  {
   "cell_type": "code",
   "execution_count": 24,
   "metadata": {},
   "outputs": [],
   "source": [
    "#Setting up the data\n",
    "wide_cols = [\"movie_year\", \"gender\", \"age\", \"occupation\", \"genres\", \"userid\", \"movieid\"]\n",
    "embeddings_cols = [(\"genres\",20), (\"userid\",100), (\"movieid\",100)]\n",
    "crossed_cols = ()\n",
    "continuous_cols = [\"movie_year\",\"gender\",\"age\",\"occupation\"]\n",
    "target = \"ratings\""
   ]
  },
  {
   "cell_type": "code",
   "execution_count": 25,
   "metadata": {},
   "outputs": [],
   "source": [
    "#Generating the embeddings and getting the training and test splits\n",
    "pro_data = data_processing(df, wide_cols, embeddings_cols, \n",
    "                           continuous_cols, target, scale = True)"
   ]
  },
  {
   "cell_type": "code",
   "execution_count": 26,
   "metadata": {},
   "outputs": [
    {
     "data": {
      "text/plain": [
       "{'train_dataset': train_dataset(wide=array([[1977,    1,    2, ...,    0,    0,    0],\n",
       "        [1980,    1,    3, ...,    0,    0,    0],\n",
       "        [1962,    1,    4, ...,    0,    0,    0],\n",
       "        ...,\n",
       "        [1997,    1,    0, ...,    0,    0,    0],\n",
       "        [1963,    1,    5, ...,    0,    0,    0],\n",
       "        [1991,    0,    6, ...,    0,    0,    0]], dtype=int64), deep=array([[ 3.00000000e+00,  3.71900000e+03,  2.60000000e+02, ...,\n",
       "          5.71789879e-01, -1.98771054e-01, -1.07728989e+00],\n",
       "        [ 0.00000000e+00,  3.32100000e+03,  1.22800000e+03, ...,\n",
       "          5.71789879e-01,  4.27676718e-01, -1.07728989e+00],\n",
       "        [ 5.00000000e+00,  2.28100000e+03,  1.20400000e+03, ...,\n",
       "          5.71789879e-01,  1.05412449e+00,  4.53791252e-01],\n",
       "        ...,\n",
       "        [ 4.00000000e+00,  2.75600000e+03,  1.78400000e+03, ...,\n",
       "          5.71789879e-01, -1.45166660e+00, -6.17965545e-01],\n",
       "        [ 3.00000000e+00,  9.24000000e+02,  2.94800000e+03, ...,\n",
       "          5.71789879e-01,  1.68057226e+00,  1.37243994e+00],\n",
       "        [ 0.00000000e+00,  5.30300000e+03,  1.28000000e+03, ...,\n",
       "         -1.74889419e+00,  2.30702003e+00, -3.11749317e-01]]), labels=array([1, 4, 4, ..., 5, 4, 3], dtype=int64)),\n",
       " 'test_dataset': test_dataset(wide=array([[1983,    1,    2, ...,    0,    0,    0],\n",
       "        [1998,    1,    0, ...,    0,    0,    0],\n",
       "        [1996,    1,    0, ...,    0,    0,    0],\n",
       "        ...,\n",
       "        [2000,    1,    0, ...,    0,    0,    0],\n",
       "        [1995,    0,    2, ...,    0,    0,    0],\n",
       "        [1961,    1,    4, ...,    0,    0,    0]], dtype=int64), deep=array([[ 4.00000000e+00,  5.89300000e+03,  2.80400000e+03, ...,\n",
       "          5.71789879e-01, -1.98771054e-01, -1.58641203e-01],\n",
       "        [ 4.00000000e+00,  8.32000000e+02,  1.92300000e+03, ...,\n",
       "          5.71789879e-01, -1.45166660e+00, -9.24181773e-01],\n",
       "        [ 3.00000000e+00,  8.69000000e+02,  1.04700000e+03, ...,\n",
       "          5.71789879e-01, -1.45166660e+00,  1.83176428e+00],\n",
       "        ...,\n",
       "        [ 8.00000000e+00,  2.82800000e+03,  3.48400000e+03, ...,\n",
       "          5.71789879e-01, -1.45166660e+00, -6.17965545e-01],\n",
       "        [ 1.00000000e+00,  5.40200000e+03,  1.00000000e+00, ...,\n",
       "         -1.74889419e+00, -1.98771054e-01, -1.23039800e+00],\n",
       "        [ 1.30000000e+01,  5.16300000e+03,  2.78200000e+03, ...,\n",
       "          5.71789879e-01,  1.05412449e+00, -3.11749317e-01]]), labels=array([4, 4, 1, ..., 3, 4, 4], dtype=int64)),\n",
       " 'embeddings_input': [('genres', 18, 20)],\n",
       " 'deep_column_ind': {'genres': 0,\n",
       "  'userid': 1,\n",
       "  'movieid': 2,\n",
       "  'movie_year': 3,\n",
       "  'gender': 4,\n",
       "  'age': 5,\n",
       "  'occupation': 6},\n",
       " 'encoding_dict': {'genres': {'Drama': 0,\n",
       "   'Animation': 1,\n",
       "   'Musical': 2,\n",
       "   'Action': 3,\n",
       "   'Comedy': 4,\n",
       "   'Adventure': 5,\n",
       "   'Romance': 6,\n",
       "   \"Children's\": 7,\n",
       "   'Thriller': 8,\n",
       "   'Crime': 9,\n",
       "   'Western': 10,\n",
       "   'Documentary': 11,\n",
       "   'Mystery': 12,\n",
       "   'Horror': 13,\n",
       "   'Sci-Fi': 14,\n",
       "   'Film-Noir': 15,\n",
       "   'War': 16,\n",
       "   'Fantasy': 17}}}"
      ]
     },
     "execution_count": 26,
     "metadata": {},
     "output_type": "execute_result"
    }
   ],
   "source": [
    "pro_data"
   ]
  },
  {
   "cell_type": "code",
   "execution_count": 27,
   "metadata": {},
   "outputs": [],
   "source": [
    "use_cuda = torch.cuda.is_available()\n",
    "\n",
    "#Defining the class for loading the dataset\n",
    "class DataLoad(Dataset):\n",
    "    def __init__(self, data):\n",
    "        \n",
    "        self.X_wide = data.wide\n",
    "        self.X_deep = data.deep\n",
    "        self.Y = data.labels\n",
    "        \n",
    "    def __getitem__(self,ind):\n",
    "        \n",
    "        xw = self.X_wide[ind]\n",
    "        xd = self.X_deep[ind]\n",
    "        y = self.Y[ind]\n",
    "        \n",
    "        return xw, xd, y\n",
    "    def __len__(self):\n",
    "        return len(self.Y)"
   ]
  },
  {
   "cell_type": "markdown",
   "metadata": {},
   "source": [
    "#Defining a class for the network architecture"
   ]
  },
  {
   "cell_type": "code",
   "execution_count": 28,
   "metadata": {},
   "outputs": [],
   "source": [
    "class DNWNet(nn.Module):\n",
    "\n",
    "    def __init__(self, wide_dim, embeddings_input, continuous_cols, \n",
    "                 deep_column_ind, hidden_layers, dropout, \n",
    "                 encoding_dict, n_class):\n",
    "\n",
    "        super(DNWNet, self).__init__()\n",
    "        self.wide_dim = wide_dim\n",
    "        self.deep_column_ind = deep_column_ind\n",
    "        self.embeddings_input = embeddings_input\n",
    "        self.continuous_cols = continuous_cols\n",
    "        self.hidden_layers = hidden_layers\n",
    "        self.dropout = dropout\n",
    "        self.encoding_dict = encoding_dict\n",
    "        self.n_class = n_class\n",
    "        self.loss_values=[]\n",
    "\n",
    "        #Creating embedding layers for the deep part of the network:\n",
    "        for col,val,dim in self.embeddings_input:\n",
    "            setattr(self, 'emb_layer_'+col, nn.Embedding(val, dim))\n",
    "\n",
    "        #Creating the hidden layer for the deep part of the network:\n",
    "        input_emb_dim = np.sum([emb[2] for emb in self.embeddings_input])\n",
    "        self.linear_1 = nn.Linear(input_emb_dim+len(continuous_cols),\n",
    "                                  self.hidden_layers[0])\n",
    "        if self.dropout:\n",
    "            self.linear_1_drop = nn.Dropout(self.dropout[0])\n",
    "        for i,h in enumerate(self.hidden_layers[1:],1):\n",
    "            setattr(self, 'linear_'+str(i+1),\n",
    "                    nn.Linear( self.hidden_layers[i-1], self.hidden_layers[i] ))\n",
    "            if self.dropout:\n",
    "                setattr(self, 'linear_'+str(i+1)+'_drop', nn.Dropout(self.dropout[i]))\n",
    "\n",
    "        #Merging the deep and wide components to the output layer\n",
    "        self.output = nn.Linear(self.hidden_layers[-1]+self.wide_dim,\n",
    "                                self.n_class)\n",
    "\n",
    "\n",
    "    def compile(self, optimizer=\"SGD\", learning_rate=0.001, momentum=0.0):\n",
    "        \n",
    "        self.activation, self.criterion = None, F.mse_loss\n",
    "\n",
    "        if optimizer == \"Adam\":\n",
    "            self.optimizer = torch.optim.Adam(self.parameters(), lr=learning_rate)\n",
    "        if optimizer == \"RMSprop\":\n",
    "            self.optimizer = torch.optim.RMSprop(self.parameters(), lr=learning_rate)\n",
    "        if optimizer == \"SGD\":\n",
    "            self.optimizer = torch.optim.SGD(self.parameters(), lr=learning_rate, momentum=momentum)\n",
    "\n",
    "        self.method = 'regression'\n",
    "\n",
    "\n",
    "    def forward(self, X_w, X_d):\n",
    "\n",
    "        # Deep Side\n",
    "        emb = [getattr(self, 'emb_layer_'+col)(X_d[:,self.deep_column_ind[col]].long())\n",
    "               for col,_,_ in self.embeddings_input]\n",
    "        if self.continuous_cols:\n",
    "            cont_ind = [self.deep_column_ind[col] \n",
    "                        for col in self.continuous_cols]\n",
    "            cont = [X_d[:, cont_ind].float()]\n",
    "            deep_inp = torch.cat(emb+cont, 1)\n",
    "        else:\n",
    "            deep_inp = torch.cat(emb, 1)\n",
    "\n",
    "        x_deep = F.relu(self.linear_1(deep_inp))\n",
    "        if self.dropout:\n",
    "            x_deep = self.linear_1_drop(x_deep)\n",
    "        for i in range(1,len(self.hidden_layers)):\n",
    "            x_deep = F.relu( getattr(self, 'linear_'+str(i+1))(x_deep) )\n",
    "            if self.dropout:\n",
    "                x_deep = getattr(self, 'linear_'+str(i+1)+'_drop')(x_deep)\n",
    "\n",
    "        #Concatenating the deep and wide sides\n",
    "        wide_deep_input = torch.cat([x_deep, X_w.float()], 1)\n",
    "\n",
    "        if not self.activation:\n",
    "            out = self.output(wide_deep_input)\n",
    "        else:\n",
    "            out = self.activation(self.output(wide_deep_input))\n",
    "\n",
    "        return out\n",
    "\n",
    "\n",
    "    def fit(self, dataset, n_epochs, batch_size):\n",
    "\n",
    "        widedeep_dataset = DataLoad(dataset)\n",
    "        train_loader = torch.utils.data.DataLoader(dataset=widedeep_dataset,\n",
    "                                                   batch_size=batch_size,\n",
    "                                                   shuffle=True)\n",
    "\n",
    "        \n",
    "        net = self.train()\n",
    "        for epoch in range(n_epochs):\n",
    "            total=0\n",
    "            correct=0\n",
    "            for i, (X_wide, X_deep, target) in enumerate(train_loader):\n",
    "                X_w = Variable(X_wide)\n",
    "                X_d = Variable(X_deep)\n",
    "                y = (Variable(target).float() if self.method != 'multiclass' else Variable(target))\n",
    "\n",
    "                if use_cuda:\n",
    "                    X_w, X_d, y = X_w.cuda(), X_d.cuda(), y.cuda()\n",
    "\n",
    "                self.optimizer.zero_grad()\n",
    "                y_pred =  net(X_w, X_d)\n",
    "                y_pred = torch.squeeze(y_pred)\n",
    "                loss = self.criterion(y_pred, y)\n",
    "                loss.backward()\n",
    "                self.optimizer.step()\n",
    "\n",
    "                if self.method != \"regression\":\n",
    "                    total+= y.size(0)\n",
    "                    if self.method == 'logistic':\n",
    "                        y_pred_cat = (y_pred > 0.5).squeeze(1).float()\n",
    "                    if self.method == \"multiclass\":\n",
    "                        _, y_pred_cat = torch.max(y_pred, 1)\n",
    "                    correct+= float((y_pred_cat == y).sum().data[0])\n",
    "            self.loss_values.append(loss.item())\n",
    "            print ('Epoch {} of {}, Loss: {}'.format(epoch+1, n_epochs,\n",
    "                    round(loss.item(),3)))\n",
    "\n",
    "\n",
    "    def predict(self, dataset):\n",
    "\n",
    "\n",
    "        X_w = Variable(torch.from_numpy(dataset.wide)).float()\n",
    "        X_d = Variable(torch.from_numpy(dataset.deep))\n",
    "\n",
    "        if use_cuda:\n",
    "            X_w, X_d = X_w.cuda(), X_d.cuda()\n",
    "\n",
    "        \n",
    "        net = self.eval()\n",
    "        pred = net(X_w,X_d).cpu()\n",
    "        if self.method == \"regression\":\n",
    "            return pred.squeeze(1).data.numpy()\n",
    "        if self.method == \"logistic\":\n",
    "            return (pred > 0.5).squeeze(1).data.numpy()\n",
    "        if self.method == \"multiclass\":\n",
    "            _, pred_cat = torch.max(pred, 1)\n",
    "            return pred_cat.data.numpy()\n",
    "\n",
    "\n",
    " \n",
    "\n",
    "    def get_embeddings(self, col_name):\n",
    "        params = list(self.named_parameters())\n",
    "        emb_layers = [p for p in params if 'emb_layer' in p[0]]\n",
    "        emb_layer  = [layer for layer in emb_layers if col_name in layer[0]][0]\n",
    "        embeddings = emb_layer[1].cpu().data.numpy()\n",
    "        col_label_encoding = self.encoding_dict[col_name]\n",
    "        inv_dict = {y:x for x,y in col_label_encoding.items()}\n",
    "        embeddings_dict = {}\n",
    "        for ind,value in inv_dict.items():\n",
    "            embeddings_dict[value] = embeddings[ind]\n",
    "\n",
    "        return embeddings_dict"
   ]
  },
  {
   "cell_type": "code",
   "execution_count": 29,
   "metadata": {},
   "outputs": [],
   "source": [
    "# Network set up\n",
    "wide_dim = pro_data['train_dataset'].wide.shape[1]\n",
    "n_unique = len(np.unique(pro_data['train_dataset'].labels))\n",
    "n_class = 1\n",
    "\n",
    "deep_column_ind = pro_data['deep_column_ind']\n",
    "embeddings_input= pro_data['embeddings_input']\n",
    "encoding_dict   = pro_data['encoding_dict']\n",
    "hidden_layers = [100,80]\n",
    "dropout = [0.5,0.2]"
   ]
  },
  {
   "cell_type": "code",
   "execution_count": 42,
   "metadata": {},
   "outputs": [],
   "source": [
    "use_cuda = torch.cuda.is_available()\n",
    "\n",
    "model = DNWNet(wide_dim,embeddings_input,continuous_cols, deep_column_ind,\n",
    "               hidden_layers,dropout,encoding_dict,n_class)\n",
    "model.compile(optimizer='RMSProp')\n",
    "if use_cuda:\n",
    "    model = model.cuda()"
   ]
  },
  {
   "cell_type": "code",
   "execution_count": 31,
   "metadata": {},
   "outputs": [
    {
     "name": "stdout",
     "output_type": "stream",
     "text": [
      "Epoch 1 of 5, Loss: 1.698\n",
      "Epoch 2 of 5, Loss: 1.91\n",
      "Epoch 3 of 5, Loss: 1.289\n",
      "Epoch 4 of 5, Loss: 1.221\n",
      "Epoch 5 of 5, Loss: 1.418\n"
     ]
    }
   ],
   "source": [
    "#train the model\n",
    "train_dataset = pro_data['train_dataset']\n",
    "model.fit(dataset=train_dataset, n_epochs=5, batch_size=40)"
   ]
  },
  {
   "cell_type": "code",
   "execution_count": 32,
   "metadata": {},
   "outputs": [],
   "source": [
    "test_dataset = pro_data['test_dataset']"
   ]
  },
  {
   "cell_type": "code",
   "execution_count": 47,
   "metadata": {},
   "outputs": [],
   "source": [
    "y_pred = model.predict(dataset = test_dataset)"
   ]
  },
  {
   "cell_type": "code",
   "execution_count": 48,
   "metadata": {},
   "outputs": [],
   "source": [
    "y = test_dataset.labels"
   ]
  },
  {
   "cell_type": "code",
   "execution_count": 50,
   "metadata": {},
   "outputs": [
    {
     "data": {
      "text/plain": [
       "3.0969130537865768"
      ]
     },
     "execution_count": 50,
     "metadata": {},
     "output_type": "execute_result"
    }
   ],
   "source": [
    "#Mean squared error:\n",
    "mean_squared_error(y_pred,y)"
   ]
  },
  {
   "cell_type": "code",
   "execution_count": 52,
   "metadata": {},
   "outputs": [
    {
     "data": {
      "text/plain": [
       "1.5018071455214703"
      ]
     },
     "execution_count": 52,
     "metadata": {},
     "output_type": "execute_result"
    }
   ],
   "source": [
    "#Mean absolute error:\n",
    "mean_absolute_error(y_pred, y)"
   ]
  },
  {
   "cell_type": "code",
   "execution_count": 55,
   "metadata": {},
   "outputs": [
    {
     "data": {
      "image/png": "[encoded data removed]",
      "text/plain": [
       "<Figure size 432x288 with 1 Axes>"
      ]
     },
     "metadata": {
      "needs_background": "light"
     },
     "output_type": "display_data"
    }
   ],
   "source": [
    "#plotting the training error of the model:\n",
    "plt.plot(model.loss_values)\n",
    "plt.ylabel('Train Error')\n",
    "plt.xlabel('epoch')\n",
    "plt.title('Train Error for intial model settings')\n",
    "plt.show()"
   ]
  },
  {
   "cell_type": "markdown",
   "metadata": {},
   "source": [
    "##Hyperparameter Tuning:"
   ]
  },
  {
   "cell_type": "code",
   "execution_count": 65,
   "metadata": {},
   "outputs": [],
   "source": [
    "#Comparing Adam with RMSProp\n",
    "models = []\n",
    "methods = [\"Adam\",\"RMSprop\"]"
   ]
  },
  {
   "cell_type": "code",
   "execution_count": 67,
   "metadata": {},
   "outputs": [
    {
     "name": "stdout",
     "output_type": "stream",
     "text": [
      "Epoch 1 of 5, Loss: 1.743\n",
      "Epoch 2 of 5, Loss: 1.602\n",
      "Epoch 3 of 5, Loss: 1.816\n",
      "Epoch 4 of 5, Loss: 1.355\n",
      "Epoch 5 of 5, Loss: 1.785\n",
      "Epoch 1 of 5, Loss: 1.927\n",
      "Epoch 2 of 5, Loss: 30.55\n",
      "Epoch 3 of 5, Loss: 96.975\n",
      "Epoch 4 of 5, Loss: 4.795\n",
      "Epoch 5 of 5, Loss: 2.106\n"
     ]
    }
   ],
   "source": [
    "for method in methods:\n",
    "    model = DNWNet( wide_dim,embeddings_input,continuous_cols,deep_column_ind,\n",
    "                      hidden_layers,dropout,encoding_dict,n_class)\n",
    "    model.compile(optimizer=method)\n",
    "    if use_cuda:\n",
    "        model = model.cuda()\n",
    "    model.fit(dataset=train_dataset, n_epochs=5, batch_size=40)\n",
    "    models.append(model)"
   ]
  },
  {
   "cell_type": "code",
   "execution_count": 72,
   "metadata": {},
   "outputs": [
    {
     "data": {
      "image/png": "[encoded data removed]",
      "text/plain": [
       "<Figure size 432x288 with 1 Axes>"
      ]
     },
     "metadata": {
      "needs_background": "light"
     },
     "output_type": "display_data"
    }
   ],
   "source": [
    "for model in models:\n",
    "    plt.plot(np.arange(5),model.loss_values)\n",
    "plt.ylabel('Train Error')\n",
    "plt.xlabel('epoch')\n",
    "\n",
    "plt.legend(methods, loc='upper right')\n",
    "plt.title(\"Training Error for Adam and RMSProp\")\n",
    "plt.show()"
   ]
  },
  {
   "cell_type": "code",
   "execution_count": 69,
   "metadata": {},
   "outputs": [
    {
     "name": "stdout",
     "output_type": "stream",
     "text": [
      "for Adam (\n",
      "Parameter Group 0\n",
      "    amsgrad: False\n",
      "    betas: (0.9, 0.999)\n",
      "    eps: 1e-08\n",
      "    lr: 0.001\n",
      "    weight_decay: 0\n",
      ")\n",
      "test mean squared error: 1.3483741350618021\n",
      "test mean absolute error: 0.9023418351189219\n",
      "for RMSprop (\n",
      "Parameter Group 0\n",
      "    alpha: 0.99\n",
      "    centered: False\n",
      "    eps: 1e-08\n",
      "    lr: 0.001\n",
      "    momentum: 0\n",
      "    weight_decay: 0\n",
      ")\n",
      "test mean squared error: 2.493550604484618\n",
      "test mean absolute error: 1.2355311263289825\n"
     ]
    }
   ],
   "source": [
    "for model in models:\n",
    "    print(\"for \"+ str(model.optimizer))\n",
    "    y_pred = model.predict(dataset=test_dataset)\n",
    "    y = test_dataset.labels\n",
    "    print(\"test mean squared error: \"+str(mean_squared_error(y_pred,y)))\n",
    "    print(\"test mean absolute error: \"+ str(mean_absolute_error(y_pred,y)))"
   ]
  },
  {
   "cell_type": "code",
   "execution_count": 78,
   "metadata": {},
   "outputs": [],
   "source": [
    "#Optimizing dropout values\n",
    "dropouts = [0,0.1,0.3,0.6,0.7,1]\n",
    "models_dropout = []"
   ]
  },
  {
   "cell_type": "code",
   "execution_count": 79,
   "metadata": {},
   "outputs": [
    {
     "name": "stdout",
     "output_type": "stream",
     "text": [
      "Epoch 1 of 3, Loss: 1.152\n",
      "Epoch 2 of 3, Loss: 1.332\n",
      "Epoch 3 of 3, Loss: 0.818\n",
      "Epoch 1 of 3, Loss: 1.487\n",
      "Epoch 2 of 3, Loss: 1.677\n",
      "Epoch 3 of 3, Loss: 1.196\n",
      "Epoch 1 of 3, Loss: 1.747\n",
      "Epoch 2 of 3, Loss: 1.528\n",
      "Epoch 3 of 3, Loss: 1.265\n",
      "Epoch 1 of 3, Loss: 1.658\n",
      "Epoch 2 of 3, Loss: 0.926\n",
      "Epoch 3 of 3, Loss: 1.649\n",
      "Epoch 1 of 3, Loss: 1.142\n",
      "Epoch 2 of 3, Loss: 3.459\n",
      "Epoch 3 of 3, Loss: 1.822\n",
      "Epoch 1 of 3, Loss: 1.601\n",
      "Epoch 2 of 3, Loss: 1.859\n",
      "Epoch 3 of 3, Loss: 0.964\n"
     ]
    }
   ],
   "source": [
    "for drop in dropouts:\n",
    "    dropout = [drop,drop]\n",
    "    model = DNWNet( wide_dim, embeddings_input, continuous_cols,\n",
    "                      deep_column_ind, hidden_layers, dropout, encoding_dict,\n",
    "                      n_class)\n",
    "    model.compile(optimizer=\"Adam\")\n",
    "    if use_cuda:\n",
    "        model = model.cuda()\n",
    "    model.fit(dataset=train_dataset, n_epochs=3, batch_size=40)\n",
    "    models_dropout.append(model)"
   ]
  },
  {
   "cell_type": "code",
   "execution_count": 82,
   "metadata": {},
   "outputs": [
    {
     "data": {
      "image/png": "[encoded data removed]",
      "text/plain": [
       "<Figure size 432x288 with 1 Axes>"
      ]
     },
     "metadata": {
      "needs_background": "light"
     },
     "output_type": "display_data"
    }
   ],
   "source": [
    "for model in models_dropout:\n",
    "    plt.plot(np.arange(3),model.loss_values)\n",
    "plt.ylabel('Train Error')\n",
    "plt.xlabel('epoch')\n",
    "\n",
    "plt.legend(droupouts, loc='upper left')\n",
    "plt.title(\"Training error for different dropout values\")\n",
    "plt.show()"
   ]
  },
  {
   "cell_type": "code",
   "execution_count": 112,
   "metadata": {},
   "outputs": [
    {
     "name": "stdout",
     "output_type": "stream",
     "text": [
      "for dropouts: [0, 0]\n",
      "test mean squared error: 1.2648771905187544\n",
      "test mean absolute error: 0.9515922579944239\n",
      "for dropouts: [0.1, 0.1]\n",
      "test mean squared error: 1.4516496061966817\n",
      "test mean absolute error: 1.005462791789853\n",
      "for dropouts: [0.3, 0.3]\n",
      "test mean squared error: 1.282016061451221\n",
      "test mean absolute error: 0.933543559364026\n",
      "for dropouts: [0.6, 0.6]\n",
      "test mean squared error: 1.6113981780118918\n",
      "test mean absolute error: 0.9676427772878051\n",
      "for dropouts: [0.7, 0.7]\n",
      "test mean squared error: 1.397625587399844\n",
      "test mean absolute error: 0.9123627331506017\n",
      "for dropouts: [1, 1]\n",
      "test mean squared error: 1.3116251071739726\n",
      "test mean absolute error: 0.9302601805100777\n"
     ]
    }
   ],
   "source": [
    "for model in models_dropout:\n",
    "    print(\"for dropouts: \"+ str(model.dropout))\n",
    "    y_pred = model.predict(dataset=test_dataset)\n",
    "    y = test_dataset.labels\n",
    "    print(\"test mean squared error: \"+str(mean_squared_error(y_pred,y)))\n",
    "    print(\"test mean absolute error: \"+ str(mean_absolute_error(y_pred,y)))"
   ]
  },
  {
   "cell_type": "code",
   "execution_count": 83,
   "metadata": {},
   "outputs": [
    {
     "name": "stdout",
     "output_type": "stream",
     "text": [
      "Epoch 1 of 10, Loss: 1.961\n",
      "Epoch 2 of 10, Loss: 1.492\n",
      "Epoch 3 of 10, Loss: 2.455\n",
      "Epoch 4 of 10, Loss: 0.757\n",
      "Epoch 5 of 10, Loss: 1.018\n",
      "Epoch 6 of 10, Loss: 1.315\n",
      "Epoch 7 of 10, Loss: 0.683\n",
      "Epoch 8 of 10, Loss: 0.9\n",
      "Epoch 9 of 10, Loss: 0.594\n",
      "Epoch 10 of 10, Loss: 0.642\n",
      "Wall time: 2h 24min 58s\n"
     ]
    }
   ],
   "source": [
    "%%time\n",
    "dropout = [0.7,0.7]\n",
    "model = DNWNet(wide_dim, embeddings_input, continuous_cols, deep_column_ind,\n",
    "              hidden_layers,dropout,encoding_dict,n_class)\n",
    "model.compile(optimizer = 'Adam')\n",
    "if use_cuda:\n",
    "    model = model.cuda()\n",
    "model.fit(dataset = train_dataset, n_epochs = 10, batch_size = 70)"
   ]
  },
  {
   "cell_type": "code",
   "execution_count": 87,
   "metadata": {},
   "outputs": [
    {
     "data": {
      "image/png": "[encoded data removed]",
      "text/plain": [
       "<Figure size 432x288 with 1 Axes>"
      ]
     },
     "metadata": {
      "needs_background": "light"
     },
     "output_type": "display_data"
    }
   ],
   "source": [
    "plt.plot(np.arange(10),model.loss_values)\n",
    "plt.ylabel('Train Error')\n",
    "plt.xlabel('epoch')\n",
    "plt.title('Train error for optimal model')\n",
    "plt.show()"
   ]
  },
  {
   "cell_type": "code",
   "execution_count": 88,
   "metadata": {},
   "outputs": [
    {
     "name": "stdout",
     "output_type": "stream",
     "text": [
      "test mean squared error: 2.5401197644466222\n",
      "test mean absolute error: 1.2535699011430814\n"
     ]
    }
   ],
   "source": [
    "y_pred = model.predict(dataset=test_dataset)\n",
    "y = test_dataset.labels\n",
    "print(\"test mean squared error: \"+str(mean_squared_error(y_pred,y)))\n",
    "print(\"test mean absolute error: \"+ str(mean_absolute_error(y_pred,y)))"
   ]
  },
  {
   "cell_type": "code",
   "execution_count": 90,
   "metadata": {},
   "outputs": [
    {
     "name": "stdout",
     "output_type": "stream",
     "text": [
      "Epoch 1 of 20, Loss: 1.133\n",
      "Epoch 2 of 20, Loss: 0.915\n",
      "Epoch 3 of 20, Loss: 1.203\n",
      "Epoch 4 of 20, Loss: 2.078\n",
      "Epoch 5 of 20, Loss: 1.264\n",
      "Epoch 6 of 20, Loss: 1.696\n",
      "Epoch 7 of 20, Loss: 1.248\n",
      "Epoch 8 of 20, Loss: 0.264\n",
      "Epoch 9 of 20, Loss: 0.648\n",
      "Epoch 10 of 20, Loss: 2.192\n",
      "Epoch 11 of 20, Loss: 1.966\n",
      "Epoch 12 of 20, Loss: 0.599\n",
      "Epoch 13 of 20, Loss: 0.505\n",
      "Epoch 14 of 20, Loss: 0.927\n",
      "Epoch 15 of 20, Loss: 2.235\n",
      "Epoch 16 of 20, Loss: 2.596\n",
      "Epoch 17 of 20, Loss: 0.55\n",
      "Epoch 18 of 20, Loss: 0.446\n",
      "Epoch 19 of 20, Loss: 1.018\n",
      "Epoch 20 of 20, Loss: 0.946\n",
      "Wall time: 26min 21s\n"
     ]
    }
   ],
   "source": [
    "%%time\n",
    "#Training for 20 epochs:\n",
    "dropout = [0.7,0.7]\n",
    "model = DNWNet(wide_dim, embeddings_input, continuous_cols, deep_column_ind,\n",
    "              hidden_layers,dropout,encoding_dict,n_class)\n",
    "model.compile(optimizer = 'Adam')\n",
    "if use_cuda:\n",
    "    model = model.cuda()\n",
    "model.fit(dataset = train_dataset, n_epochs = 20, batch_size = 70)"
   ]
  },
  {
   "cell_type": "code",
   "execution_count": 91,
   "metadata": {},
   "outputs": [
    {
     "name": "stdout",
     "output_type": "stream",
     "text": [
      "test mean squared error: 1.2845704647381528\n",
      "test mean absolute error: 0.9606604314382203\n"
     ]
    }
   ],
   "source": [
    "y_pred = model.predict(dataset=test_dataset)\n",
    "y = test_dataset.labels\n",
    "print(\"test mean squared error: \"+str(mean_squared_error(y_pred,y)))\n",
    "print(\"test mean absolute error: \"+ str(mean_absolute_error(y_pred,y)))"
   ]
  },
  {
   "cell_type": "code",
   "execution_count": 101,
   "metadata": {},
   "outputs": [
    {
     "data": {
      "image/png": "[encoded data removed]",
      "text/plain": [
       "<Figure size 432x288 with 1 Axes>"
      ]
     },
     "metadata": {
      "needs_background": "light"
     },
     "output_type": "display_data"
    }
   ],
   "source": [
    "plt.plot(np.arange(20),model.loss_values)\n",
    "plt.ylabel('Train Error')\n",
    "plt.xlabel('epoch')\n",
    "plt.title('Train error for optimal model over 20 epochs')\n",
    "plt.show()"
   ]
  },
  {
   "cell_type": "code",
   "execution_count": 113,
   "metadata": {},
   "outputs": [
    {
     "name": "stdout",
     "output_type": "stream",
     "text": [
      "test mean squared error: 1.3116251071739726\n",
      "test mean absolute error: 0.9302601805100777\n"
     ]
    }
   ],
   "source": [
    "y_pred = model.predict(dataset=test_dataset)\n",
    "y = test_dataset.labels\n",
    "\n",
    "print(\"test mean absolute error: \"+ str(mean_absolute_error(y_pred,y)))"
   ]
  },
  {
   "cell_type": "code",
   "execution_count": 34,
   "metadata": {},
   "outputs": [
    {
     "name": "stdout",
     "output_type": "stream",
     "text": [
      "Epoch 1 of 200, Loss: 1.215\n",
      "Epoch 2 of 200, Loss: 1.145\n",
      "Epoch 3 of 200, Loss: 1.416\n",
      "Epoch 4 of 200, Loss: 1.108\n",
      "Epoch 5 of 200, Loss: 1.016\n",
      "Epoch 6 of 200, Loss: 0.994\n",
      "Epoch 7 of 200, Loss: 1.588\n",
      "Epoch 8 of 200, Loss: 1.059\n",
      "Epoch 9 of 200, Loss: 2.315\n",
      "Epoch 10 of 200, Loss: 1.681\n",
      "Epoch 11 of 200, Loss: 1.812\n",
      "Epoch 12 of 200, Loss: 1.317\n",
      "Epoch 13 of 200, Loss: 1.262\n",
      "Epoch 14 of 200, Loss: 1.615\n",
      "Epoch 15 of 200, Loss: 1.579\n",
      "Epoch 16 of 200, Loss: 1.494\n",
      "Epoch 17 of 200, Loss: 1.2\n",
      "Epoch 18 of 200, Loss: 1.134\n",
      "Epoch 19 of 200, Loss: 1.209\n",
      "Epoch 20 of 200, Loss: 1.844\n",
      "Epoch 21 of 200, Loss: 1.26\n",
      "Epoch 22 of 200, Loss: 1.321\n",
      "Epoch 23 of 200, Loss: 1.199\n",
      "Epoch 24 of 200, Loss: 1.318\n",
      "Epoch 25 of 200, Loss: 1.964\n",
      "Epoch 26 of 200, Loss: 1.381\n",
      "Epoch 27 of 200, Loss: 1.072\n",
      "Epoch 28 of 200, Loss: 1.579\n",
      "Epoch 29 of 200, Loss: 1.476\n",
      "Epoch 30 of 200, Loss: 1.817\n",
      "Epoch 31 of 200, Loss: 2.848\n",
      "Epoch 32 of 200, Loss: 1.438\n",
      "Epoch 33 of 200, Loss: 1.477\n",
      "Epoch 34 of 200, Loss: 1.79\n",
      "Epoch 35 of 200, Loss: 1.522\n",
      "Epoch 36 of 200, Loss: 2.588\n",
      "Epoch 37 of 200, Loss: 1.535\n",
      "Epoch 38 of 200, Loss: 3.396\n",
      "Epoch 39 of 200, Loss: 2.066\n",
      "Epoch 40 of 200, Loss: 1.552\n",
      "Epoch 41 of 200, Loss: 3.221\n",
      "Epoch 42 of 200, Loss: 1.423\n",
      "Epoch 43 of 200, Loss: 1.635\n",
      "Epoch 44 of 200, Loss: 1.368\n",
      "Epoch 45 of 200, Loss: 1.965\n",
      "Epoch 46 of 200, Loss: 1.34\n",
      "Epoch 47 of 200, Loss: 1.129\n",
      "Epoch 48 of 200, Loss: 1.586\n",
      "Epoch 49 of 200, Loss: 1.185\n",
      "Epoch 50 of 200, Loss: 2.008\n",
      "Epoch 51 of 200, Loss: 1.042\n",
      "Epoch 52 of 200, Loss: 1.342\n",
      "Epoch 53 of 200, Loss: 1.131\n",
      "Epoch 54 of 200, Loss: 2.562\n",
      "Epoch 55 of 200, Loss: 1.489\n",
      "Epoch 56 of 200, Loss: 1.125\n",
      "Epoch 57 of 200, Loss: 1.067\n",
      "Epoch 58 of 200, Loss: 1.234\n",
      "Epoch 59 of 200, Loss: 1.23\n",
      "Epoch 60 of 200, Loss: 1.359\n",
      "Epoch 61 of 200, Loss: 1.594\n",
      "Epoch 62 of 200, Loss: 1.279\n",
      "Epoch 63 of 200, Loss: 2.091\n",
      "Epoch 64 of 200, Loss: 1.247\n",
      "Epoch 65 of 200, Loss: 1.442\n",
      "Epoch 66 of 200, Loss: 1.424\n",
      "Epoch 67 of 200, Loss: 1.459\n",
      "Epoch 68 of 200, Loss: 1.425\n",
      "Epoch 69 of 200, Loss: 1.178\n",
      "Epoch 70 of 200, Loss: 1.308\n",
      "Epoch 71 of 200, Loss: 0.971\n",
      "Epoch 72 of 200, Loss: 0.929\n",
      "Epoch 73 of 200, Loss: 1.001\n",
      "Epoch 74 of 200, Loss: 1.58\n",
      "Epoch 75 of 200, Loss: 1.331\n",
      "Epoch 76 of 200, Loss: 1.433\n",
      "Epoch 77 of 200, Loss: 1.199\n",
      "Epoch 78 of 200, Loss: 1.979\n",
      "Epoch 79 of 200, Loss: 1.457\n",
      "Epoch 80 of 200, Loss: 1.629\n",
      "Epoch 81 of 200, Loss: 1.3\n",
      "Epoch 82 of 200, Loss: 1.666\n",
      "Epoch 83 of 200, Loss: 0.99\n",
      "Epoch 84 of 200, Loss: 1.343\n",
      "Epoch 85 of 200, Loss: 1.704\n",
      "Epoch 86 of 200, Loss: 1.295\n",
      "Epoch 87 of 200, Loss: 1.268\n",
      "Epoch 88 of 200, Loss: 1.476\n",
      "Epoch 89 of 200, Loss: 1.966\n",
      "Epoch 90 of 200, Loss: 1.489\n",
      "Epoch 91 of 200, Loss: 0.989\n",
      "Epoch 92 of 200, Loss: 1.105\n",
      "Epoch 93 of 200, Loss: 1.169\n",
      "Epoch 94 of 200, Loss: 1.333\n",
      "Epoch 95 of 200, Loss: 1.269\n",
      "Epoch 96 of 200, Loss: 1.462\n",
      "Epoch 97 of 200, Loss: 1.092\n",
      "Epoch 98 of 200, Loss: 1.584\n",
      "Epoch 99 of 200, Loss: 1.421\n",
      "Epoch 100 of 200, Loss: 1.035\n",
      "Epoch 101 of 200, Loss: 2.47\n",
      "Epoch 102 of 200, Loss: 1.043\n",
      "Epoch 103 of 200, Loss: 0.87\n",
      "Epoch 104 of 200, Loss: 1.383\n",
      "Epoch 105 of 200, Loss: 1.379\n",
      "Epoch 106 of 200, Loss: 1.094\n",
      "Epoch 107 of 200, Loss: 1.092\n",
      "Epoch 108 of 200, Loss: 1.629\n",
      "Epoch 109 of 200, Loss: 1.35\n",
      "Epoch 110 of 200, Loss: 1.205\n",
      "Epoch 111 of 200, Loss: 1.692\n",
      "Epoch 112 of 200, Loss: 1.342\n",
      "Epoch 113 of 200, Loss: 2.309\n",
      "Epoch 114 of 200, Loss: 1.463\n",
      "Epoch 115 of 200, Loss: 1.202\n",
      "Epoch 116 of 200, Loss: 1.223\n",
      "Epoch 117 of 200, Loss: 1.426\n",
      "Epoch 118 of 200, Loss: 2.364\n",
      "Epoch 119 of 200, Loss: 1.477\n",
      "Epoch 120 of 200, Loss: 1.205\n",
      "Epoch 121 of 200, Loss: 1.652\n",
      "Epoch 122 of 200, Loss: 1.492\n",
      "Epoch 123 of 200, Loss: 1.571\n",
      "Epoch 124 of 200, Loss: 1.232\n",
      "Epoch 125 of 200, Loss: 1.395\n",
      "Epoch 126 of 200, Loss: 1.438\n",
      "Epoch 127 of 200, Loss: 2.116\n",
      "Epoch 128 of 200, Loss: 1.741\n",
      "Epoch 129 of 200, Loss: 1.431\n",
      "Epoch 130 of 200, Loss: 1.891\n",
      "Epoch 131 of 200, Loss: 1.034\n",
      "Epoch 132 of 200, Loss: 1.793\n",
      "Epoch 133 of 200, Loss: 1.973\n",
      "Epoch 134 of 200, Loss: 1.525\n",
      "Epoch 135 of 200, Loss: 1.486\n",
      "Epoch 136 of 200, Loss: 1.127\n",
      "Epoch 137 of 200, Loss: 1.071\n",
      "Epoch 138 of 200, Loss: 1.56\n",
      "Epoch 139 of 200, Loss: 2.535\n",
      "Epoch 140 of 200, Loss: 1.258\n",
      "Epoch 141 of 200, Loss: 1.433\n",
      "Epoch 142 of 200, Loss: 1.09\n",
      "Epoch 143 of 200, Loss: 1.096\n",
      "Epoch 144 of 200, Loss: 1.323\n",
      "Epoch 145 of 200, Loss: 1.192\n",
      "Epoch 146 of 200, Loss: 1.075\n",
      "Epoch 147 of 200, Loss: 1.222\n",
      "Epoch 148 of 200, Loss: 1.181\n",
      "Epoch 149 of 200, Loss: 1.008\n",
      "Epoch 150 of 200, Loss: 1.097\n",
      "Epoch 151 of 200, Loss: 1.041\n",
      "Epoch 152 of 200, Loss: 1.236\n",
      "Epoch 153 of 200, Loss: 1.958\n",
      "Epoch 154 of 200, Loss: 2.0\n",
      "Epoch 155 of 200, Loss: 1.562\n",
      "Epoch 156 of 200, Loss: 2.074\n",
      "Epoch 157 of 200, Loss: 2.458\n",
      "Epoch 158 of 200, Loss: 1.233\n",
      "Epoch 159 of 200, Loss: 0.833\n",
      "Epoch 160 of 200, Loss: 1.514\n",
      "Epoch 161 of 200, Loss: 1.347\n",
      "Epoch 162 of 200, Loss: 1.412\n",
      "Epoch 163 of 200, Loss: 2.405\n",
      "Epoch 164 of 200, Loss: 1.118\n",
      "Epoch 165 of 200, Loss: 1.148\n",
      "Epoch 166 of 200, Loss: 1.558\n",
      "Epoch 167 of 200, Loss: 1.715\n",
      "Epoch 168 of 200, Loss: 1.253\n",
      "Epoch 169 of 200, Loss: 1.127\n",
      "Epoch 170 of 200, Loss: 0.875\n",
      "Epoch 171 of 200, Loss: 1.882\n",
      "Epoch 172 of 200, Loss: 1.246\n",
      "Epoch 173 of 200, Loss: 1.455\n",
      "Epoch 174 of 200, Loss: 1.506\n",
      "Epoch 175 of 200, Loss: 1.798\n",
      "Epoch 176 of 200, Loss: 1.388\n",
      "Epoch 177 of 200, Loss: 1.407\n",
      "Epoch 178 of 200, Loss: 1.201\n",
      "Epoch 179 of 200, Loss: 2.381\n",
      "Epoch 180 of 200, Loss: 2.019\n",
      "Epoch 181 of 200, Loss: 1.558\n",
      "Epoch 182 of 200, Loss: 1.154\n",
      "Epoch 183 of 200, Loss: 1.556\n",
      "Epoch 184 of 200, Loss: 1.451\n",
      "Epoch 185 of 200, Loss: 1.067\n",
      "Epoch 186 of 200, Loss: 0.866\n",
      "Epoch 187 of 200, Loss: 1.272\n",
      "Epoch 188 of 200, Loss: 1.311\n",
      "Epoch 189 of 200, Loss: 1.326\n",
      "Epoch 190 of 200, Loss: 0.882\n",
      "Epoch 191 of 200, Loss: 0.972\n",
      "Epoch 192 of 200, Loss: 1.179\n",
      "Epoch 193 of 200, Loss: 1.453\n",
      "Epoch 194 of 200, Loss: 1.369\n",
      "Epoch 195 of 200, Loss: 1.353\n",
      "Epoch 196 of 200, Loss: 1.954\n",
      "Epoch 197 of 200, Loss: 1.265\n",
      "Epoch 198 of 200, Loss: 1.731\n",
      "Epoch 199 of 200, Loss: 1.522\n",
      "Epoch 200 of 200, Loss: 1.336\n",
      "Wall time: 3h 2min 34s\n"
     ]
    }
   ],
   "source": [
    "%%time\n",
    "#Training for 20 epochs:\n",
    "dropout = [0.7,0.7]\n",
    "model = DNWNet(wide_dim, embeddings_input, continuous_cols, deep_column_ind,\n",
    "              hidden_layers,dropout,encoding_dict,n_class)\n",
    "model.compile(optimizer = 'Adam')\n",
    "if use_cuda:\n",
    "    model = model.cuda()\n",
    "model.fit(dataset = train_dataset, n_epochs = 200, batch_size = 100)\n"
   ]
  },
  {
   "cell_type": "code",
   "execution_count": 36,
   "metadata": {},
   "outputs": [
    {
     "name": "stdout",
     "output_type": "stream",
     "text": [
      "test mean squared error: 1.461854552437191\n",
      "test mean absolute error: 1.00837948812358\n"
     ]
    }
   ],
   "source": [
    "y_pred = model.predict(dataset=test_dataset)\n",
    "y = test_dataset.labels\n",
    "print(\"test mean squared error: \"+str(mean_squared_error(y_pred,y)))\n",
    "print(\"test mean absolute error: \"+ str(mean_absolute_error(y_pred,y)))"
   ]
  },
  {
   "cell_type": "code",
   "execution_count": 38,
   "metadata": {},
   "outputs": [
    {
     "data": {
      "image/png": "[encoded data removed]",
      "text/plain": [
       "<Figure size 432x288 with 1 Axes>"
      ]
     },
     "metadata": {
      "needs_background": "light"
     },
     "output_type": "display_data"
    }
   ],
   "source": [
    "plt.plot(np.arange(200),model.loss_values)\n",
    "plt.ylabel('Train Error')\n",
    "plt.xlabel('epoch')\n",
    "plt.title('Train error for optimal model over 20 epochs')\n",
    "plt.show()"
   ]
  },
  {
   "cell_type": "code",
   "execution_count": 39,
   "metadata": {},
   "outputs": [
    {
     "name": "stdout",
     "output_type": "stream",
     "text": [
      "Epoch 1 of 20, Loss: 2062.737\n",
      "Epoch 2 of 20, Loss: 454.558\n",
      "Epoch 3 of 20, Loss: 110.84\n",
      "Epoch 4 of 20, Loss: 23.721\n",
      "Epoch 5 of 20, Loss: 5.86\n",
      "Epoch 6 of 20, Loss: 2.606\n",
      "Epoch 7 of 20, Loss: 1.593\n",
      "Epoch 8 of 20, Loss: 1.302\n",
      "Epoch 9 of 20, Loss: 1.567\n",
      "Epoch 10 of 20, Loss: 1.426\n",
      "Epoch 11 of 20, Loss: 1.292\n",
      "Epoch 12 of 20, Loss: 1.132\n",
      "Epoch 13 of 20, Loss: 1.246\n",
      "Epoch 14 of 20, Loss: 1.35\n",
      "Epoch 15 of 20, Loss: 1.455\n",
      "Epoch 16 of 20, Loss: 1.294\n",
      "Epoch 17 of 20, Loss: 1.522\n",
      "Epoch 18 of 20, Loss: 1.349\n",
      "Epoch 19 of 20, Loss: 1.02\n",
      "Epoch 20 of 20, Loss: 1.362\n",
      "Wall time: 3min 52s\n"
     ]
    }
   ],
   "source": [
    "%%time\n",
    "#Training for 20 epochs:\n",
    "dropout = [0.7,0.7]\n",
    "model = DNWNet(wide_dim, embeddings_input, continuous_cols, deep_column_ind,\n",
    "              hidden_layers,dropout,encoding_dict,n_class)\n",
    "model.compile(optimizer = 'Adam')\n",
    "if use_cuda:\n",
    "    model = model.cuda()\n",
    "model.fit(dataset = train_dataset, n_epochs = 20, batch_size = 10000)"
   ]
  },
  {
   "cell_type": "code",
   "execution_count": 40,
   "metadata": {},
   "outputs": [
    {
     "data": {
      "image/png": "[encoded data removed]",
      "text/plain": [
       "<Figure size 432x288 with 1 Axes>"
      ]
     },
     "metadata": {
      "needs_background": "light"
     },
     "output_type": "display_data"
    }
   ],
   "source": [
    "plt.plot(np.arange(20),model.loss_values)\n",
    "plt.ylabel('Train Error')\n",
    "plt.xlabel('epoch')\n",
    "plt.title('Train error for optimal model over 20 epochs')\n",
    "plt.show()"
   ]
  }
 ],
 "metadata": {
  "kernelspec": {
   "display_name": "Python 3",
   "language": "python",
   "name": "python3"
  },
  "language_info": {
   "codemirror_mode": {
    "name": "ipython",
    "version": 3
   },
   "file_extension": ".py",
   "mimetype": "text/x-python",
   "name": "python",
   "nbconvert_exporter": "python",
   "pygments_lexer": "ipython3",
   "version": "3.7.3"
  }
 },
 "nbformat": 4,
 "nbformat_minor": 2
}
